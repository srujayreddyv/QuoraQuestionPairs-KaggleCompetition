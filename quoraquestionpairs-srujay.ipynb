{
 "cells": [
  {
   "cell_type": "markdown",
   "id": "4bf49b73",
   "metadata": {
    "papermill": {
     "duration": 0.010551,
     "end_time": "2023-10-12T09:33:04.133250",
     "exception": false,
     "start_time": "2023-10-12T09:33:04.122699",
     "status": "completed"
    },
    "tags": []
   },
   "source": [
    "# Quora Question Pairs- Kaggle Competetion"
   ]
  },
  {
   "cell_type": "markdown",
   "id": "8c083ac2",
   "metadata": {
    "papermill": {
     "duration": 0.009743,
     "end_time": "2023-10-12T09:33:04.153192",
     "exception": false,
     "start_time": "2023-10-12T09:33:04.143449",
     "status": "completed"
    },
    "tags": []
   },
   "source": [
    "## 1.0 Requirements"
   ]
  },
  {
   "cell_type": "code",
   "execution_count": 1,
   "id": "1f886e35",
   "metadata": {
    "_cell_guid": "b1076dfc-b9ad-4769-8c92-a6c4dae69d19",
    "_uuid": "8f2839f25d086af736a60e9eeb907d3b93b6e0e5",
    "execution": {
     "iopub.execute_input": "2023-10-12T09:33:04.175558Z",
     "iopub.status.busy": "2023-10-12T09:33:04.175229Z",
     "iopub.status.idle": "2023-10-12T09:33:14.273496Z",
     "shell.execute_reply": "2023-10-12T09:33:14.272248Z"
    },
    "papermill": {
     "duration": 10.112268,
     "end_time": "2023-10-12T09:33:14.275774",
     "exception": false,
     "start_time": "2023-10-12T09:33:04.163506",
     "status": "completed"
    },
    "tags": []
   },
   "outputs": [
    {
     "name": "stdout",
     "output_type": "stream",
     "text": [
      "Collecting num2words\r\n",
      "  Downloading num2words-0.5.12-py3-none-any.whl (125 kB)\r\n",
      "\u001b[2K     \u001b[90m━━━━━━━━━━━━━━━━━━━━━━━━━━━━━━━━━━━━━━━\u001b[0m \u001b[32m125.2/125.2 kB\u001b[0m \u001b[31m3.7 MB/s\u001b[0m eta \u001b[36m0:00:00\u001b[0m\r\n",
      "\u001b[?25hRequirement already satisfied: docopt>=0.6.2 in /opt/conda/lib/python3.10/site-packages (from num2words) (0.6.2)\r\n",
      "Installing collected packages: num2words\r\n",
      "Successfully installed num2words-0.5.12\r\n",
      "Note: you may need to restart the kernel to use updated packages.\n"
     ]
    }
   ],
   "source": [
    "pip install num2words"
   ]
  },
  {
   "cell_type": "code",
   "execution_count": 2,
   "id": "bea65d8b",
   "metadata": {
    "execution": {
     "iopub.execute_input": "2023-10-12T09:33:14.302491Z",
     "iopub.status.busy": "2023-10-12T09:33:14.301971Z",
     "iopub.status.idle": "2023-10-12T09:33:22.458379Z",
     "shell.execute_reply": "2023-10-12T09:33:22.457303Z"
    },
    "papermill": {
     "duration": 8.171684,
     "end_time": "2023-10-12T09:33:22.460446",
     "exception": false,
     "start_time": "2023-10-12T09:33:14.288762",
     "status": "completed"
    },
    "tags": []
   },
   "outputs": [
    {
     "name": "stdout",
     "output_type": "stream",
     "text": [
      "Requirement already satisfied: pydot in /opt/conda/lib/python3.10/site-packages (1.4.2)\r\n",
      "Requirement already satisfied: graphviz in /opt/conda/lib/python3.10/site-packages (0.20.1)\r\n",
      "Requirement already satisfied: pyparsing>=2.1.4 in /opt/conda/lib/python3.10/site-packages (from pydot) (3.0.9)\r\n",
      "Note: you may need to restart the kernel to use updated packages.\n"
     ]
    }
   ],
   "source": [
    "pip install pydot graphviz"
   ]
  },
  {
   "cell_type": "markdown",
   "id": "87adf01b",
   "metadata": {
    "papermill": {
     "duration": 0.010482,
     "end_time": "2023-10-12T09:33:22.481816",
     "exception": false,
     "start_time": "2023-10-12T09:33:22.471334",
     "status": "completed"
    },
    "tags": []
   },
   "source": [
    "## 2.0 Imports"
   ]
  },
  {
   "cell_type": "code",
   "execution_count": 3,
   "id": "79653eb2",
   "metadata": {
    "execution": {
     "iopub.execute_input": "2023-10-12T09:33:22.504406Z",
     "iopub.status.busy": "2023-10-12T09:33:22.504103Z",
     "iopub.status.idle": "2023-10-12T09:33:33.466726Z",
     "shell.execute_reply": "2023-10-12T09:33:33.465788Z"
    },
    "papermill": {
     "duration": 10.976786,
     "end_time": "2023-10-12T09:33:33.469183",
     "exception": false,
     "start_time": "2023-10-12T09:33:22.492397",
     "status": "completed"
    },
    "tags": []
   },
   "outputs": [
    {
     "name": "stderr",
     "output_type": "stream",
     "text": [
      "/opt/conda/lib/python3.10/site-packages/scipy/__init__.py:146: UserWarning: A NumPy version >=1.16.5 and <1.23.0 is required for this version of SciPy (detected version 1.23.5\n",
      "  warnings.warn(f\"A NumPy version >={np_minversion} and <{np_maxversion}\"\n"
     ]
    }
   ],
   "source": [
    "#basics\n",
    "import numpy as np\n",
    "import pandas as pd\n",
    "\n",
    "#visualisation\n",
    "import matplotlib.pyplot as plt\n",
    "import seaborn as sns\n",
    "from tensorflow.keras.utils import plot_model\n",
    "\n",
    "#text_processing\n",
    "from num2words import num2words\n",
    "import re\n",
    "import nltk\n",
    "import string\n",
    "from nltk.corpus import stopwords\n",
    "from nltk import sent_tokenize, word_tokenize\n",
    "from nltk.stem import SnowballStemmer\n",
    "\n",
    "#data preperation\n",
    "from sklearn.model_selection import train_test_split\n",
    "from keras.preprocessing.text import Tokenizer\n",
    "from tensorflow.keras.preprocessing.sequence import pad_sequences\n",
    "\n",
    "#Neural Network\n",
    "from tensorflow.keras import Sequential\n",
    "from tensorflow.keras.models import Model\n",
    "from tensorflow.keras.regularizers import l2\n",
    "from tensorflow.keras.layers import BatchNormalization\n",
    "from tensorflow.keras.layers import Embedding, LSTM, Dropout, concatenate, Input, Dense\n",
    "from tensorflow.keras.layers import Bidirectional, Attention, Reshape, Flatten\n",
    "from tensorflow.keras.callbacks import ModelCheckpoint, EarlyStopping\n",
    "\n",
    "#other\n",
    "from tqdm import tqdm\n",
    "import gc\n",
    "\n",
    "#warnings\n",
    "import warnings\n",
    "warnings.filterwarnings(\"ignore\")"
   ]
  },
  {
   "cell_type": "code",
   "execution_count": 4,
   "id": "d8630c9c",
   "metadata": {
    "execution": {
     "iopub.execute_input": "2023-10-12T09:33:33.492955Z",
     "iopub.status.busy": "2023-10-12T09:33:33.492423Z",
     "iopub.status.idle": "2023-10-12T09:33:33.497119Z",
     "shell.execute_reply": "2023-10-12T09:33:33.496301Z"
    },
    "papermill": {
     "duration": 0.018303,
     "end_time": "2023-10-12T09:33:33.499070",
     "exception": false,
     "start_time": "2023-10-12T09:33:33.480767",
     "status": "completed"
    },
    "tags": []
   },
   "outputs": [
    {
     "name": "stdout",
     "output_type": "stream",
     "text": [
      "2.12.0\n"
     ]
    }
   ],
   "source": [
    "import tensorflow as tf\n",
    "print(tf.__version__)"
   ]
  },
  {
   "cell_type": "markdown",
   "id": "73d45f72",
   "metadata": {
    "papermill": {
     "duration": 0.011026,
     "end_time": "2023-10-12T09:33:33.520762",
     "exception": false,
     "start_time": "2023-10-12T09:33:33.509736",
     "status": "completed"
    },
    "tags": []
   },
   "source": [
    "## 3.0 Dependencies"
   ]
  },
  {
   "cell_type": "code",
   "execution_count": 5,
   "id": "a80c3390",
   "metadata": {
    "execution": {
     "iopub.execute_input": "2023-10-12T09:33:33.543506Z",
     "iopub.status.busy": "2023-10-12T09:33:33.543218Z",
     "iopub.status.idle": "2023-10-12T09:33:33.629152Z",
     "shell.execute_reply": "2023-10-12T09:33:33.628301Z"
    },
    "papermill": {
     "duration": 0.099249,
     "end_time": "2023-10-12T09:33:33.630872",
     "exception": false,
     "start_time": "2023-10-12T09:33:33.531623",
     "status": "completed"
    },
    "tags": []
   },
   "outputs": [
    {
     "name": "stdout",
     "output_type": "stream",
     "text": [
      "[nltk_data] Downloading package stopwords to /usr/share/nltk_data...\n",
      "[nltk_data]   Package stopwords is already up-to-date!\n"
     ]
    },
    {
     "data": {
      "text/plain": [
       "True"
      ]
     },
     "execution_count": 5,
     "metadata": {},
     "output_type": "execute_result"
    }
   ],
   "source": [
    "nltk.download('stopwords')"
   ]
  },
  {
   "cell_type": "code",
   "execution_count": 6,
   "id": "7e349985",
   "metadata": {
    "execution": {
     "iopub.execute_input": "2023-10-12T09:33:33.697802Z",
     "iopub.status.busy": "2023-10-12T09:33:33.697459Z",
     "iopub.status.idle": "2023-10-12T09:33:33.784390Z",
     "shell.execute_reply": "2023-10-12T09:33:33.783487Z"
    },
    "papermill": {
     "duration": 0.139374,
     "end_time": "2023-10-12T09:33:33.786191",
     "exception": false,
     "start_time": "2023-10-12T09:33:33.646817",
     "status": "completed"
    },
    "tags": []
   },
   "outputs": [
    {
     "name": "stdout",
     "output_type": "stream",
     "text": [
      "[nltk_data] Downloading package punkt to /usr/share/nltk_data...\n",
      "[nltk_data]   Package punkt is already up-to-date!\n"
     ]
    },
    {
     "data": {
      "text/plain": [
       "True"
      ]
     },
     "execution_count": 6,
     "metadata": {},
     "output_type": "execute_result"
    }
   ],
   "source": [
    "nltk.download('punkt')"
   ]
  },
  {
   "cell_type": "code",
   "execution_count": 7,
   "id": "560895a9",
   "metadata": {
    "execution": {
     "iopub.execute_input": "2023-10-12T09:33:33.809903Z",
     "iopub.status.busy": "2023-10-12T09:33:33.809141Z",
     "iopub.status.idle": "2023-10-12T09:33:33.881951Z",
     "shell.execute_reply": "2023-10-12T09:33:33.881039Z"
    },
    "papermill": {
     "duration": 0.086196,
     "end_time": "2023-10-12T09:33:33.883718",
     "exception": false,
     "start_time": "2023-10-12T09:33:33.797522",
     "status": "completed"
    },
    "tags": []
   },
   "outputs": [
    {
     "name": "stdout",
     "output_type": "stream",
     "text": [
      "[nltk_data] Downloading package wordnet to /usr/share/nltk_data...\n",
      "[nltk_data]   Package wordnet is already up-to-date!\n"
     ]
    },
    {
     "data": {
      "text/plain": [
       "True"
      ]
     },
     "execution_count": 7,
     "metadata": {},
     "output_type": "execute_result"
    }
   ],
   "source": [
    "nltk.download('wordnet')"
   ]
  },
  {
   "cell_type": "code",
   "execution_count": 8,
   "id": "ecf7a7ab",
   "metadata": {
    "execution": {
     "iopub.execute_input": "2023-10-12T09:33:33.906820Z",
     "iopub.status.busy": "2023-10-12T09:33:33.906568Z",
     "iopub.status.idle": "2023-10-12T09:33:34.110503Z",
     "shell.execute_reply": "2023-10-12T09:33:34.109551Z"
    },
    "papermill": {
     "duration": 0.217468,
     "end_time": "2023-10-12T09:33:34.112246",
     "exception": false,
     "start_time": "2023-10-12T09:33:33.894778",
     "status": "completed"
    },
    "tags": []
   },
   "outputs": [
    {
     "name": "stdout",
     "output_type": "stream",
     "text": [
      "[nltk_data] Downloading package omw-1.4 to /usr/share/nltk_data...\n"
     ]
    },
    {
     "data": {
      "text/plain": [
       "True"
      ]
     },
     "execution_count": 8,
     "metadata": {},
     "output_type": "execute_result"
    }
   ],
   "source": [
    "nltk.download('omw-1.4')"
   ]
  },
  {
   "cell_type": "markdown",
   "id": "c97c3852",
   "metadata": {
    "papermill": {
     "duration": 0.011104,
     "end_time": "2023-10-12T09:33:34.134969",
     "exception": false,
     "start_time": "2023-10-12T09:33:34.123865",
     "status": "completed"
    },
    "tags": []
   },
   "source": [
    "## 4.0 Data Understanding"
   ]
  },
  {
   "cell_type": "code",
   "execution_count": 9,
   "id": "6ebc5e4f",
   "metadata": {
    "execution": {
     "iopub.execute_input": "2023-10-12T09:33:34.158872Z",
     "iopub.status.busy": "2023-10-12T09:33:34.158073Z",
     "iopub.status.idle": "2023-10-12T09:33:34.162833Z",
     "shell.execute_reply": "2023-10-12T09:33:34.161856Z"
    },
    "papermill": {
     "duration": 0.018589,
     "end_time": "2023-10-12T09:33:34.164463",
     "exception": false,
     "start_time": "2023-10-12T09:33:34.145874",
     "status": "completed"
    },
    "tags": []
   },
   "outputs": [],
   "source": [
    "seed=42\n",
    "chunk_size=50000\n",
    "batch_size=2048\n",
    "TRAIN_DATA_PATH='/kaggle/input/quora-question-pairs/train.csv.zip'\n",
    "TEST_DATA_PATH='/kaggle/input/quora-question-pairs/test.csv'\n",
    "SUB_DATA='/kaggle/input/quora-question-pairs/sample_submission.csv.zip'\n",
    "GLOVE='/kaggle/input/googlevectors/glove.6B.200d.txt'"
   ]
  },
  {
   "cell_type": "code",
   "execution_count": 10,
   "id": "ca00abe2",
   "metadata": {
    "execution": {
     "iopub.execute_input": "2023-10-12T09:33:34.187818Z",
     "iopub.status.busy": "2023-10-12T09:33:34.187412Z",
     "iopub.status.idle": "2023-10-12T09:33:35.866755Z",
     "shell.execute_reply": "2023-10-12T09:33:35.865766Z"
    },
    "papermill": {
     "duration": 1.692973,
     "end_time": "2023-10-12T09:33:35.868665",
     "exception": false,
     "start_time": "2023-10-12T09:33:34.175692",
     "status": "completed"
    },
    "tags": []
   },
   "outputs": [
    {
     "data": {
      "text/html": [
       "<div>\n",
       "<style scoped>\n",
       "    .dataframe tbody tr th:only-of-type {\n",
       "        vertical-align: middle;\n",
       "    }\n",
       "\n",
       "    .dataframe tbody tr th {\n",
       "        vertical-align: top;\n",
       "    }\n",
       "\n",
       "    .dataframe thead th {\n",
       "        text-align: right;\n",
       "    }\n",
       "</style>\n",
       "<table border=\"1\" class=\"dataframe\">\n",
       "  <thead>\n",
       "    <tr style=\"text-align: right;\">\n",
       "      <th></th>\n",
       "      <th>id</th>\n",
       "      <th>qid1</th>\n",
       "      <th>qid2</th>\n",
       "      <th>question1</th>\n",
       "      <th>question2</th>\n",
       "      <th>is_duplicate</th>\n",
       "    </tr>\n",
       "  </thead>\n",
       "  <tbody>\n",
       "    <tr>\n",
       "      <th>0</th>\n",
       "      <td>0</td>\n",
       "      <td>1</td>\n",
       "      <td>2</td>\n",
       "      <td>What is the step by step guide to invest in sh...</td>\n",
       "      <td>What is the step by step guide to invest in sh...</td>\n",
       "      <td>0</td>\n",
       "    </tr>\n",
       "    <tr>\n",
       "      <th>1</th>\n",
       "      <td>1</td>\n",
       "      <td>3</td>\n",
       "      <td>4</td>\n",
       "      <td>What is the story of Kohinoor (Koh-i-Noor) Dia...</td>\n",
       "      <td>What would happen if the Indian government sto...</td>\n",
       "      <td>0</td>\n",
       "    </tr>\n",
       "    <tr>\n",
       "      <th>2</th>\n",
       "      <td>2</td>\n",
       "      <td>5</td>\n",
       "      <td>6</td>\n",
       "      <td>How can I increase the speed of my internet co...</td>\n",
       "      <td>How can Internet speed be increased by hacking...</td>\n",
       "      <td>0</td>\n",
       "    </tr>\n",
       "    <tr>\n",
       "      <th>3</th>\n",
       "      <td>3</td>\n",
       "      <td>7</td>\n",
       "      <td>8</td>\n",
       "      <td>Why am I mentally very lonely? How can I solve...</td>\n",
       "      <td>Find the remainder when [math]23^{24}[/math] i...</td>\n",
       "      <td>0</td>\n",
       "    </tr>\n",
       "    <tr>\n",
       "      <th>4</th>\n",
       "      <td>4</td>\n",
       "      <td>9</td>\n",
       "      <td>10</td>\n",
       "      <td>Which one dissolve in water quikly sugar, salt...</td>\n",
       "      <td>Which fish would survive in salt water?</td>\n",
       "      <td>0</td>\n",
       "    </tr>\n",
       "  </tbody>\n",
       "</table>\n",
       "</div>"
      ],
      "text/plain": [
       "   id  qid1  qid2                                          question1  \\\n",
       "0   0     1     2  What is the step by step guide to invest in sh...   \n",
       "1   1     3     4  What is the story of Kohinoor (Koh-i-Noor) Dia...   \n",
       "2   2     5     6  How can I increase the speed of my internet co...   \n",
       "3   3     7     8  Why am I mentally very lonely? How can I solve...   \n",
       "4   4     9    10  Which one dissolve in water quikly sugar, salt...   \n",
       "\n",
       "                                           question2  is_duplicate  \n",
       "0  What is the step by step guide to invest in sh...             0  \n",
       "1  What would happen if the Indian government sto...             0  \n",
       "2  How can Internet speed be increased by hacking...             0  \n",
       "3  Find the remainder when [math]23^{24}[/math] i...             0  \n",
       "4            Which fish would survive in salt water?             0  "
      ]
     },
     "execution_count": 10,
     "metadata": {},
     "output_type": "execute_result"
    }
   ],
   "source": [
    "df = pd.read_csv(TRAIN_DATA_PATH)\n",
    "df.head()"
   ]
  },
  {
   "cell_type": "code",
   "execution_count": 11,
   "id": "dc047ab4",
   "metadata": {
    "execution": {
     "iopub.execute_input": "2023-10-12T09:33:35.894152Z",
     "iopub.status.busy": "2023-10-12T09:33:35.893340Z",
     "iopub.status.idle": "2023-10-12T09:33:35.898485Z",
     "shell.execute_reply": "2023-10-12T09:33:35.897533Z"
    },
    "papermill": {
     "duration": 0.019299,
     "end_time": "2023-10-12T09:33:35.900489",
     "exception": false,
     "start_time": "2023-10-12T09:33:35.881190",
     "status": "completed"
    },
    "tags": []
   },
   "outputs": [
    {
     "name": "stdout",
     "output_type": "stream",
     "text": [
      "df shape: (404290, 6)\n"
     ]
    }
   ],
   "source": [
    "print('df shape:', df.shape)"
   ]
  },
  {
   "cell_type": "code",
   "execution_count": 12,
   "id": "7a4bdf4e",
   "metadata": {
    "execution": {
     "iopub.execute_input": "2023-10-12T09:33:35.923958Z",
     "iopub.status.busy": "2023-10-12T09:33:35.923711Z",
     "iopub.status.idle": "2023-10-12T09:33:36.000493Z",
     "shell.execute_reply": "2023-10-12T09:33:35.999542Z"
    },
    "papermill": {
     "duration": 0.090491,
     "end_time": "2023-10-12T09:33:36.002261",
     "exception": false,
     "start_time": "2023-10-12T09:33:35.911770",
     "status": "completed"
    },
    "tags": []
   },
   "outputs": [
    {
     "name": "stdout",
     "output_type": "stream",
     "text": [
      "<class 'pandas.core.frame.DataFrame'>\n",
      "RangeIndex: 404290 entries, 0 to 404289\n",
      "Data columns (total 6 columns):\n",
      " #   Column        Non-Null Count   Dtype \n",
      "---  ------        --------------   ----- \n",
      " 0   id            404290 non-null  int64 \n",
      " 1   qid1          404290 non-null  int64 \n",
      " 2   qid2          404290 non-null  int64 \n",
      " 3   question1     404289 non-null  object\n",
      " 4   question2     404288 non-null  object\n",
      " 5   is_duplicate  404290 non-null  int64 \n",
      "dtypes: int64(4), object(2)\n",
      "memory usage: 18.5+ MB\n"
     ]
    }
   ],
   "source": [
    "df.info()"
   ]
  },
  {
   "cell_type": "code",
   "execution_count": 13,
   "id": "e41f9331",
   "metadata": {
    "execution": {
     "iopub.execute_input": "2023-10-12T09:33:36.027580Z",
     "iopub.status.busy": "2023-10-12T09:33:36.026734Z",
     "iopub.status.idle": "2023-10-12T09:33:36.085859Z",
     "shell.execute_reply": "2023-10-12T09:33:36.084889Z"
    },
    "papermill": {
     "duration": 0.073573,
     "end_time": "2023-10-12T09:33:36.087733",
     "exception": false,
     "start_time": "2023-10-12T09:33:36.014160",
     "status": "completed"
    },
    "tags": []
   },
   "outputs": [
    {
     "data": {
      "text/plain": [
       "id              0\n",
       "qid1            0\n",
       "qid2            0\n",
       "question1       1\n",
       "question2       2\n",
       "is_duplicate    0\n",
       "dtype: int64"
      ]
     },
     "execution_count": 13,
     "metadata": {},
     "output_type": "execute_result"
    }
   ],
   "source": [
    "df.isna().sum()"
   ]
  },
  {
   "cell_type": "code",
   "execution_count": 14,
   "id": "92a53e47",
   "metadata": {
    "execution": {
     "iopub.execute_input": "2023-10-12T09:33:36.112630Z",
     "iopub.status.busy": "2023-10-12T09:33:36.112081Z",
     "iopub.status.idle": "2023-10-12T09:33:36.194287Z",
     "shell.execute_reply": "2023-10-12T09:33:36.193369Z"
    },
    "papermill": {
     "duration": 0.096446,
     "end_time": "2023-10-12T09:33:36.196253",
     "exception": false,
     "start_time": "2023-10-12T09:33:36.099807",
     "status": "completed"
    },
    "tags": []
   },
   "outputs": [],
   "source": [
    "df.dropna(inplace=True)"
   ]
  },
  {
   "cell_type": "code",
   "execution_count": 15,
   "id": "00e4440f",
   "metadata": {
    "execution": {
     "iopub.execute_input": "2023-10-12T09:33:36.221547Z",
     "iopub.status.busy": "2023-10-12T09:33:36.220658Z",
     "iopub.status.idle": "2023-10-12T09:33:36.410146Z",
     "shell.execute_reply": "2023-10-12T09:33:36.409285Z"
    },
    "papermill": {
     "duration": 0.204737,
     "end_time": "2023-10-12T09:33:36.412876",
     "exception": false,
     "start_time": "2023-10-12T09:33:36.208139",
     "status": "completed"
    },
    "tags": []
   },
   "outputs": [
    {
     "data": {
      "image/png": "[encoded data removed]",
      "text/plain": [
       "<Figure size 500x500 with 1 Axes>"
      ]
     },
     "metadata": {},
     "output_type": "display_data"
    }
   ],
   "source": [
    "# number of customers who churned and who did not churn\n",
    "targets = df['is_duplicate'].value_counts()\n",
    "\n",
    "# pie chart to visualize the distribution of customer churn\n",
    "labels = ['not_duplicate', 'is_duplicate']\n",
    "sizes = targets.values.tolist()\n",
    "\n",
    "#colors\n",
    "colors = ['#66b3ff', '#99ff99'] \n",
    "\n",
    " \n",
    "fig1, ax1 = plt.subplots(figsize=(5,5))\n",
    "ax1.pie(sizes, colors = colors, labels=labels, autopct='%1.1f%%', startangle=90, pctdistance=0.85, explode = (0.05,0.05))\n",
    "#draw circle\n",
    "centre_circle = plt.Circle((0,0),0.70,fc='white')\n",
    "fig = plt.gcf()\n",
    "fig.gca().add_artist(centre_circle)\n",
    "\n",
    "# Equal aspect ratio ensures that pie is drawn as a circle\n",
    "ax1.axis('equal')  \n",
    "plt.tight_layout();"
   ]
  },
  {
   "cell_type": "markdown",
   "id": "310cb51b",
   "metadata": {
    "papermill": {
     "duration": 0.036988,
     "end_time": "2023-10-12T09:33:36.487304",
     "exception": false,
     "start_time": "2023-10-12T09:33:36.450316",
     "status": "completed"
    },
    "tags": []
   },
   "source": [
    "## 5.0 Data Preprocessing"
   ]
  },
  {
   "cell_type": "code",
   "execution_count": 16,
   "id": "753bbefa",
   "metadata": {
    "execution": {
     "iopub.execute_input": "2023-10-12T09:33:36.513162Z",
     "iopub.status.busy": "2023-10-12T09:33:36.512871Z",
     "iopub.status.idle": "2023-10-12T09:33:36.517133Z",
     "shell.execute_reply": "2023-10-12T09:33:36.516173Z"
    },
    "papermill": {
     "duration": 0.018986,
     "end_time": "2023-10-12T09:33:36.518892",
     "exception": false,
     "start_time": "2023-10-12T09:33:36.499906",
     "status": "completed"
    },
    "tags": []
   },
   "outputs": [],
   "source": [
    "#lower casing\n",
    "def lower_casing(text):\n",
    "  text=text.lower()\n",
    "\n",
    "  return text"
   ]
  },
  {
   "cell_type": "code",
   "execution_count": 17,
   "id": "b1c41dc4",
   "metadata": {
    "execution": {
     "iopub.execute_input": "2023-10-12T09:33:36.543893Z",
     "iopub.status.busy": "2023-10-12T09:33:36.543533Z",
     "iopub.status.idle": "2023-10-12T09:33:36.815737Z",
     "shell.execute_reply": "2023-10-12T09:33:36.814783Z"
    },
    "papermill": {
     "duration": 0.28692,
     "end_time": "2023-10-12T09:33:36.817782",
     "exception": false,
     "start_time": "2023-10-12T09:33:36.530862",
     "status": "completed"
    },
    "tags": []
   },
   "outputs": [],
   "source": [
    "df['new_ques1']=df['question1'].apply(lower_casing)\n",
    "df['new_ques2']=df['question2'].apply(lower_casing)"
   ]
  },
  {
   "cell_type": "code",
   "execution_count": 18,
   "id": "4e0911ba",
   "metadata": {
    "execution": {
     "iopub.execute_input": "2023-10-12T09:33:36.844024Z",
     "iopub.status.busy": "2023-10-12T09:33:36.843712Z",
     "iopub.status.idle": "2023-10-12T09:33:36.856298Z",
     "shell.execute_reply": "2023-10-12T09:33:36.855256Z"
    },
    "papermill": {
     "duration": 0.028053,
     "end_time": "2023-10-12T09:33:36.858165",
     "exception": false,
     "start_time": "2023-10-12T09:33:36.830112",
     "status": "completed"
    },
    "tags": []
   },
   "outputs": [],
   "source": [
    "#replacing symbols and short forms\n",
    "def replacements(text):\n",
    "\n",
    "    text=text.replace('=', ' is equal to ')\n",
    "    text=text.replace('%', ' percent ')\n",
    "    text = text.replace('$', ' dollar ')\n",
    "    text = text.replace('₹', ' rupee ')\n",
    "    text = text.replace('€', ' euro ')\n",
    "    text = text.replace('@', ' at ')\n",
    "    text = text.replace('+', ' plus ')\n",
    "    text = text.replace('/', ' or ')\n",
    "    text = text.replace('-', ' ')\n",
    "    text = text.replace('[math]', '')\n",
    "    \n",
    "    #replacement dict\n",
    "    replacements_dict = {\n",
    "        \"ain't\": \"am not\",\n",
    "        \"aren't\": \"are not\",\n",
    "        \"can't\": \"can not\",\n",
    "        \"can't've\": \"can not have\",\n",
    "        \"'cause\": \"because\",\n",
    "        \"could've\": \"could have\",\n",
    "        \"couldn't\": \"could not\",\n",
    "        \"couldn't've\": \"could not have\",\n",
    "        \"didn't\": \"did not\",\n",
    "        \"doesn't\": \"does not\",\n",
    "        \"don't\": \"do not\",\n",
    "        \"hadn't\": \"had not\",\n",
    "        \"hadn't've\": \"had not have\",\n",
    "        \"hasn't\": \"has not\",\n",
    "        \"haven't\": \"have not\",\n",
    "        \"he'd\": \"he would\",\n",
    "        \"he'd've\": \"he would have\",\n",
    "        \"he'll\": \"he will\",\n",
    "        \"he'll've\": \"he will have\",\n",
    "        \"he's\": \"he is\",\n",
    "        \"how'd\": \"how did\",\n",
    "        \"how'd'y\": \"how do you\",\n",
    "        \"how'll\": \"how will\",\n",
    "        \"how's\": \"how is\",\n",
    "        \"I'd\": \"I would\",\n",
    "        \"I'd've\": \"I would have\",\n",
    "        \"I'll\": \"I will\",\n",
    "        \"I'll've\": \"I will have\",\n",
    "        \"I'm\": \"I am\",\n",
    "        \"I've\": \"I have\",\n",
    "        \"isn't\": \"is not\",\n",
    "        \"it'd\": \"it would\",\n",
    "        \"it'd've\": \"it would have\",\n",
    "        \"it'll\": \"it will\",\n",
    "        \"it'll've\": \"it will have\",\n",
    "        \"it's\": \"it is\",\n",
    "        \"let's\": \"let us\",\n",
    "        \"ma'am\": \"madam\",\n",
    "        \"mayn't\": \"may not\",\n",
    "        \"might've\": \"might have\",\n",
    "        \"mightn't\": \"might not\",\n",
    "        \"mightn't've\": \"might not have\",\n",
    "        \"must've\": \"must have\",\n",
    "        \"mustn't\": \"must not\",\n",
    "        \"mustn't've\": \"must not have\",\n",
    "        \"needn't\": \"need not\",\n",
    "        \"needn't've\": \"need not have\",\n",
    "        \"o'clock\": \"of the clock\",\n",
    "        \"oughtn't\": \"ought not\",\n",
    "        \"oughtn't've\": \"ought not have\",\n",
    "        \"shan't\": \"shall not\",\n",
    "        \"sha'n't\": \"shall not\",\n",
    "        \"shan't've\": \"shall not have\",\n",
    "        \"she'd\": \"she would\",\n",
    "        \"she'd've\": \"she would have\",\n",
    "        \"she'll\": \"she will\",\n",
    "        \"she'll've\": \"she will have\",\n",
    "        \"she's\": \"she is\",\n",
    "        \"should've\": \"should have\",\n",
    "        \"shouldn't\": \"should not\",\n",
    "        \"shouldn't've\": \"should not have\",\n",
    "        \"so've\": \"so have\",\n",
    "        \"so's\": \"so is\",\n",
    "        \"that'd\": \"that would\",\n",
    "        \"that'd've\": \"that would have\",\n",
    "        \"that's\": \"that is\",\n",
    "        \"there'd\": \"there would\",\n",
    "        \"there'd've\": \"there would have\",\n",
    "        \"there's\": \"there is\",\n",
    "        \"they'd\": \"they would\",\n",
    "        \"they'd've\": \"they would have\",\n",
    "        \"they'll\": \"they will\",\n",
    "        \"they'll've\": \"they will have\",\n",
    "        \"they're\": \"they are\",\n",
    "        \"they've\": \"they have\",\n",
    "        \"to've\": \"to have\",\n",
    "        \"wasn't\": \"was not\",\n",
    "        \"we'd\": \"we would\",\n",
    "        \"we'd've\": \"we would have\",\n",
    "        \"we'll\": \"we will\",\n",
    "        \"we'll've\": \"we will have\",\n",
    "        \"we're\": \"we are\",\n",
    "        \"we've\": \"we have\",\n",
    "        \"weren't\": \"were not\",\n",
    "        \"what'll\": \"what will\",\n",
    "        \"what'll've\": \"what will have\",\n",
    "        \"what're\": \"what are\",\n",
    "        \"what's\": \"what is\",\n",
    "        \"what've\": \"what have\",\n",
    "        \"when's\": \"when is\",\n",
    "        \"when've\": \"when have\",\n",
    "        \"where'd\": \"where did\",\n",
    "        \"where's\": \"where is\",\n",
    "        \"where've\": \"where have\",\n",
    "        \"who'll\": \"who will\",\n",
    "        \"who'll've\": \"who will have\",\n",
    "        \"who's\": \"who is\",\n",
    "        \"who've\": \"who have\",\n",
    "        \"why's\": \"why is\",\n",
    "        \"why've\": \"why have\",\n",
    "        \"will've\": \"will have\",\n",
    "        \"won't\": \"will not\",\n",
    "        \"won't've\": \"will not have\",\n",
    "        \"would've\": \"would have\",\n",
    "        \"wouldn't\": \"would not\",\n",
    "        \"wouldn't've\": \"would not have\",\n",
    "        \"y'all\": \"you all\",\n",
    "        \"y'all'd\": \"you all would\",\n",
    "        \"y'all'd've\": \"you all would have\",\n",
    "        \"y'all're\": \"you all are\",\n",
    "        \"y'all've\": \"you all have\",\n",
    "        \"you'd\": \"you would\",\n",
    "        \"you'd've\": \"you would have\",\n",
    "        \"you'll\": \"you will\",\n",
    "        \"you'll've\": \"you will have\",\n",
    "        \"you're\": \"you are\",\n",
    "        \"you've\": \"you have\",\n",
    "    }\n",
    "\n",
    "    # Apply replacements\n",
    "    pattern = re.compile(r'\\b(' + '|'.join(replacements_dict.keys()) + r')\\b')\n",
    "    text = pattern.sub(lambda x: replacements_dict[x.group()], text)\n",
    "\n",
    "    # Remove punctuation\n",
    "    text = text.translate(str.maketrans(\"\", \"\", string.punctuation))\n",
    "    \n",
    "    return text"
   ]
  },
  {
   "cell_type": "code",
   "execution_count": 19,
   "id": "f2b84931",
   "metadata": {
    "execution": {
     "iopub.execute_input": "2023-10-12T09:33:36.884394Z",
     "iopub.status.busy": "2023-10-12T09:33:36.883602Z",
     "iopub.status.idle": "2023-10-12T09:33:56.734149Z",
     "shell.execute_reply": "2023-10-12T09:33:56.733164Z"
    },
    "papermill": {
     "duration": 19.866078,
     "end_time": "2023-10-12T09:33:56.736514",
     "exception": false,
     "start_time": "2023-10-12T09:33:36.870436",
     "status": "completed"
    },
    "tags": []
   },
   "outputs": [],
   "source": [
    "df['new_ques1']=df['new_ques1'].apply(replacements)\n",
    "df['new_ques2']=df['new_ques2'].apply(replacements)"
   ]
  },
  {
   "cell_type": "code",
   "execution_count": 20,
   "id": "9492dead",
   "metadata": {
    "execution": {
     "iopub.execute_input": "2023-10-12T09:33:56.761919Z",
     "iopub.status.busy": "2023-10-12T09:33:56.761646Z",
     "iopub.status.idle": "2023-10-12T09:33:56.766618Z",
     "shell.execute_reply": "2023-10-12T09:33:56.765702Z"
    },
    "papermill": {
     "duration": 0.019555,
     "end_time": "2023-10-12T09:33:56.768527",
     "exception": false,
     "start_time": "2023-10-12T09:33:56.748972",
     "status": "completed"
    },
    "tags": []
   },
   "outputs": [],
   "source": [
    "#converting numbers to words\n",
    "def num_to_words(text):\n",
    "  #converting numbers to words\n",
    "  words = text.split()\n",
    "  converted_text = []\n",
    "  for word in words:\n",
    "      if re.match(r'^-?\\d+\\.?\\d*$', word):  # Check if the word is a numeric value\n",
    "          try:\n",
    "              converted_word = num2words(float(word))\n",
    "              converted_text.append(converted_word)\n",
    "          except ValueError:\n",
    "              converted_text.append(word)  # If conversion fails, keep the original word\n",
    "      else:\n",
    "          converted_text.append(word)\n",
    "  \n",
    "  text=' '.join(converted_text)\n",
    "\n",
    "  return text"
   ]
  },
  {
   "cell_type": "code",
   "execution_count": 21,
   "id": "490afe7b",
   "metadata": {
    "execution": {
     "iopub.execute_input": "2023-10-12T09:33:56.793374Z",
     "iopub.status.busy": "2023-10-12T09:33:56.792450Z",
     "iopub.status.idle": "2023-10-12T09:34:07.751676Z",
     "shell.execute_reply": "2023-10-12T09:34:07.750691Z"
    },
    "papermill": {
     "duration": 10.975062,
     "end_time": "2023-10-12T09:34:07.755080",
     "exception": false,
     "start_time": "2023-10-12T09:33:56.780018",
     "status": "completed"
    },
    "tags": []
   },
   "outputs": [],
   "source": [
    "df['new_ques1']=df['new_ques1'].apply(num_to_words)\n",
    "df['new_ques2']=df['new_ques2'].apply(num_to_words)"
   ]
  },
  {
   "cell_type": "markdown",
   "id": "8b4f8c37",
   "metadata": {
    "papermill": {
     "duration": 0.024327,
     "end_time": "2023-10-12T09:34:07.815735",
     "exception": false,
     "start_time": "2023-10-12T09:34:07.791408",
     "status": "completed"
    },
    "tags": []
   },
   "source": [
    "Stemming: \n",
    "Snowball Stemming, preferred over PorterStemmer and other stemming algorithms, offers several advantages. Firstly, it supports a wide range of languages, making it suitable for multilingual datasets. Secondly, it generates more accurate stems, addressing the limitations of PorterStemmer and providing better results for word forms and variations. Additionally, Snowball Stemming allows for fine-grained control over stemming rules, making it customizable and adaptable to specific requirements."
   ]
  },
  {
   "cell_type": "code",
   "execution_count": 22,
   "id": "d9caf931",
   "metadata": {
    "execution": {
     "iopub.execute_input": "2023-10-12T09:34:07.842154Z",
     "iopub.status.busy": "2023-10-12T09:34:07.841853Z",
     "iopub.status.idle": "2023-10-12T09:34:07.846604Z",
     "shell.execute_reply": "2023-10-12T09:34:07.845618Z"
    },
    "papermill": {
     "duration": 0.020823,
     "end_time": "2023-10-12T09:34:07.848367",
     "exception": false,
     "start_time": "2023-10-12T09:34:07.827544",
     "status": "completed"
    },
    "tags": []
   },
   "outputs": [],
   "source": [
    "stemmer = SnowballStemmer('english')\n",
    "\n",
    "def stem_words(text):\n",
    "    return ' '.join([(stemmer.stem(word.strip())).strip() for word in text.split()])"
   ]
  },
  {
   "cell_type": "code",
   "execution_count": 23,
   "id": "aeb1889a",
   "metadata": {
    "execution": {
     "iopub.execute_input": "2023-10-12T09:34:07.873249Z",
     "iopub.status.busy": "2023-10-12T09:34:07.873011Z",
     "iopub.status.idle": "2023-10-12T09:34:51.391526Z",
     "shell.execute_reply": "2023-10-12T09:34:51.390640Z"
    },
    "papermill": {
     "duration": 43.536068,
     "end_time": "2023-10-12T09:34:51.396167",
     "exception": false,
     "start_time": "2023-10-12T09:34:07.860099",
     "status": "completed"
    },
    "tags": []
   },
   "outputs": [
    {
     "name": "stderr",
     "output_type": "stream",
     "text": [
      "Stemming question1: 100%|██████████| 404287/404287 [00:43<00:00, 9291.69it/s]\n"
     ]
    }
   ],
   "source": [
    "pbar = tqdm(total=len(df), desc='Stemming question1')\n",
    "df['new_ques1'] = df['new_ques1'].apply(lambda x: (pbar.update(1), stem_words(x))[1])\n",
    "pbar.close()"
   ]
  },
  {
   "cell_type": "code",
   "execution_count": 24,
   "id": "93590c9c",
   "metadata": {
    "execution": {
     "iopub.execute_input": "2023-10-12T09:34:51.456416Z",
     "iopub.status.busy": "2023-10-12T09:34:51.456107Z",
     "iopub.status.idle": "2023-10-12T09:35:36.248682Z",
     "shell.execute_reply": "2023-10-12T09:35:36.247443Z"
    },
    "papermill": {
     "duration": 44.824559,
     "end_time": "2023-10-12T09:35:36.250607",
     "exception": false,
     "start_time": "2023-10-12T09:34:51.426048",
     "status": "completed"
    },
    "tags": []
   },
   "outputs": [
    {
     "name": "stderr",
     "output_type": "stream",
     "text": [
      "Stemming question2: 100%|██████████| 404287/404287 [00:44<00:00, 9027.36it/s]\n"
     ]
    }
   ],
   "source": [
    "pbar = tqdm(total=len(df), desc='Stemming question2')\n",
    "df['new_ques2'] = df['new_ques2'].apply(lambda x: (pbar.update(1), stem_words(x))[1])\n",
    "pbar.close()"
   ]
  },
  {
   "cell_type": "code",
   "execution_count": 25,
   "id": "f78ded62",
   "metadata": {
    "execution": {
     "iopub.execute_input": "2023-10-12T09:35:36.346163Z",
     "iopub.status.busy": "2023-10-12T09:35:36.345449Z",
     "iopub.status.idle": "2023-10-12T09:35:36.353278Z",
     "shell.execute_reply": "2023-10-12T09:35:36.352462Z"
    },
    "papermill": {
     "duration": 0.056399,
     "end_time": "2023-10-12T09:35:36.354953",
     "exception": false,
     "start_time": "2023-10-12T09:35:36.298554",
     "status": "completed"
    },
    "tags": []
   },
   "outputs": [],
   "source": [
    "stop_words=stopwords.words('english')\n",
    "\n",
    "def remove_stopwords(text):\n",
    "\n",
    "    new_text=[]\n",
    "\n",
    "    for word in text.split():\n",
    "\n",
    "        if word in stop_words:\n",
    "            new_text.append('')\n",
    "\n",
    "        else:\n",
    "            new_text.append(word.strip())\n",
    "\n",
    "    x=new_text[:]\n",
    "    new_text.clear()\n",
    "    return ' '.join(x)"
   ]
  },
  {
   "cell_type": "code",
   "execution_count": 26,
   "id": "3e85db21",
   "metadata": {
    "execution": {
     "iopub.execute_input": "2023-10-12T09:35:36.448637Z",
     "iopub.status.busy": "2023-10-12T09:35:36.448089Z",
     "iopub.status.idle": "2023-10-12T09:35:53.824255Z",
     "shell.execute_reply": "2023-10-12T09:35:53.822961Z"
    },
    "papermill": {
     "duration": 17.425406,
     "end_time": "2023-10-12T09:35:53.826248",
     "exception": false,
     "start_time": "2023-10-12T09:35:36.400842",
     "status": "completed"
    },
    "tags": []
   },
   "outputs": [
    {
     "name": "stderr",
     "output_type": "stream",
     "text": [
      "Removing Stopwords:: 808574it [00:17, 46556.08it/s]\n"
     ]
    }
   ],
   "source": [
    "pbar = tqdm(total=len(df), desc='Removing Stopwords:')\n",
    "df['new_ques1'] = df['new_ques1'].apply(lambda x: (pbar.update(1), remove_stopwords(x))[1])\n",
    "df['new_ques2'] = df['new_ques2'].apply(lambda x: (pbar.update(1), remove_stopwords(x))[1])\n",
    "pbar.close()"
   ]
  },
  {
   "cell_type": "code",
   "execution_count": 27,
   "id": "0254a958",
   "metadata": {
    "execution": {
     "iopub.execute_input": "2023-10-12T09:35:53.943459Z",
     "iopub.status.busy": "2023-10-12T09:35:53.943150Z",
     "iopub.status.idle": "2023-10-12T09:35:53.965909Z",
     "shell.execute_reply": "2023-10-12T09:35:53.964959Z"
    },
    "papermill": {
     "duration": 0.083662,
     "end_time": "2023-10-12T09:35:53.967722",
     "exception": false,
     "start_time": "2023-10-12T09:35:53.884060",
     "status": "completed"
    },
    "tags": []
   },
   "outputs": [
    {
     "name": "stdout",
     "output_type": "stream",
     "text": [
      "How can the electoral college be abolished?\n",
      "   elector colleg  abolish\n"
     ]
    }
   ],
   "source": [
    "example=np.random.randint(len(df))\n",
    "print(df['question1'][example])\n",
    "print(df['new_ques1'][example])\n"
   ]
  },
  {
   "cell_type": "markdown",
   "id": "66909a4e",
   "metadata": {
    "papermill": {
     "duration": 0.055986,
     "end_time": "2023-10-12T09:35:54.083136",
     "exception": false,
     "start_time": "2023-10-12T09:35:54.027150",
     "status": "completed"
    },
    "tags": []
   },
   "source": [
    "## 6.0 Vector Representation"
   ]
  },
  {
   "cell_type": "code",
   "execution_count": 28,
   "id": "9c16a8fa",
   "metadata": {
    "execution": {
     "iopub.execute_input": "2023-10-12T09:35:54.198127Z",
     "iopub.status.busy": "2023-10-12T09:35:54.197817Z",
     "iopub.status.idle": "2023-10-12T09:35:54.222249Z",
     "shell.execute_reply": "2023-10-12T09:35:54.221368Z"
    },
    "papermill": {
     "duration": 0.086323,
     "end_time": "2023-10-12T09:35:54.223997",
     "exception": false,
     "start_time": "2023-10-12T09:35:54.137674",
     "status": "completed"
    },
    "tags": []
   },
   "outputs": [],
   "source": [
    "operational_df=df[['new_ques1', 'new_ques2', 'is_duplicate']]\n"
   ]
  },
  {
   "cell_type": "code",
   "execution_count": 29,
   "id": "a9030a67",
   "metadata": {
    "execution": {
     "iopub.execute_input": "2023-10-12T09:35:54.341447Z",
     "iopub.status.busy": "2023-10-12T09:35:54.340431Z",
     "iopub.status.idle": "2023-10-12T09:35:54.432396Z",
     "shell.execute_reply": "2023-10-12T09:35:54.431518Z"
    },
    "papermill": {
     "duration": 0.153423,
     "end_time": "2023-10-12T09:35:54.434398",
     "exception": false,
     "start_time": "2023-10-12T09:35:54.280975",
     "status": "completed"
    },
    "tags": []
   },
   "outputs": [],
   "source": [
    "#training and testing sets\n",
    "train_df, test_df = train_test_split(operational_df, test_size=0.2, random_state=seed)"
   ]
  },
  {
   "cell_type": "code",
   "execution_count": 30,
   "id": "b6c40e02",
   "metadata": {
    "execution": {
     "iopub.execute_input": "2023-10-12T09:35:54.545222Z",
     "iopub.status.busy": "2023-10-12T09:35:54.544334Z",
     "iopub.status.idle": "2023-10-12T09:35:59.235902Z",
     "shell.execute_reply": "2023-10-12T09:35:59.234936Z"
    },
    "papermill": {
     "duration": 4.749037,
     "end_time": "2023-10-12T09:35:59.237974",
     "exception": false,
     "start_time": "2023-10-12T09:35:54.488937",
     "status": "completed"
    },
    "tags": []
   },
   "outputs": [],
   "source": [
    "# Tokenizing the text data\n",
    "tokenizer = Tokenizer()\n",
    "tokenizer.fit_on_texts(train_df['new_ques1'].values + train_df['new_ques2'].values)\n",
    "vocab=tokenizer.word_index"
   ]
  },
  {
   "cell_type": "code",
   "execution_count": 31,
   "id": "267672ad",
   "metadata": {
    "execution": {
     "iopub.execute_input": "2023-10-12T09:35:59.348645Z",
     "iopub.status.busy": "2023-10-12T09:35:59.348322Z",
     "iopub.status.idle": "2023-10-12T09:36:07.996651Z",
     "shell.execute_reply": "2023-10-12T09:36:07.995568Z"
    },
    "papermill": {
     "duration": 8.706155,
     "end_time": "2023-10-12T09:36:07.999126",
     "exception": false,
     "start_time": "2023-10-12T09:35:59.292971",
     "status": "completed"
    },
    "tags": []
   },
   "outputs": [],
   "source": [
    "#preparing sequenced data\n",
    "train_sequences_1 = tokenizer.texts_to_sequences(train_df['new_ques1'].values)\n",
    "train_sequences_2 = tokenizer.texts_to_sequences(train_df['new_ques2'].values)\n",
    "test_sequences_1 = tokenizer.texts_to_sequences(test_df['new_ques1'].values)\n",
    "test_sequences_2 = tokenizer.texts_to_sequences(test_df['new_ques2'].values)"
   ]
  },
  {
   "cell_type": "code",
   "execution_count": 32,
   "id": "6a9ace4f",
   "metadata": {
    "execution": {
     "iopub.execute_input": "2023-10-12T09:36:08.115769Z",
     "iopub.status.busy": "2023-10-12T09:36:08.115164Z",
     "iopub.status.idle": "2023-10-12T09:36:08.280230Z",
     "shell.execute_reply": "2023-10-12T09:36:08.278990Z"
    },
    "papermill": {
     "duration": 0.22142,
     "end_time": "2023-10-12T09:36:08.282031",
     "exception": false,
     "start_time": "2023-10-12T09:36:08.060611",
     "status": "completed"
    },
    "tags": []
   },
   "outputs": [
    {
     "name": "stdout",
     "output_type": "stream",
     "text": [
      "Maximum lenght of sentence is: 106\n"
     ]
    }
   ],
   "source": [
    "def get_maxlen(data):\n",
    "    maxlen = 0\n",
    "    for sent in data:\n",
    "        maxlen = max(maxlen, len(sent))\n",
    "    return maxlen\n",
    "\n",
    "sequences=[train_sequences_1, train_sequences_2, test_sequences_1, test_sequences_2]\n",
    "\n",
    "max_lengths=[]\n",
    "\n",
    "for sequence in sequences:\n",
    "    maxlen = get_maxlen(sequence)\n",
    "    max_lengths.append(maxlen)\n",
    "\n",
    "print('Maximum lenght of sentence is:', maxlen)"
   ]
  },
  {
   "cell_type": "code",
   "execution_count": 33,
   "id": "a88c4b48",
   "metadata": {
    "execution": {
     "iopub.execute_input": "2023-10-12T09:36:08.390114Z",
     "iopub.status.busy": "2023-10-12T09:36:08.389389Z",
     "iopub.status.idle": "2023-10-12T09:36:08.393527Z",
     "shell.execute_reply": "2023-10-12T09:36:08.392637Z"
    },
    "papermill": {
     "duration": 0.059157,
     "end_time": "2023-10-12T09:36:08.395117",
     "exception": false,
     "start_time": "2023-10-12T09:36:08.335960",
     "status": "completed"
    },
    "tags": []
   },
   "outputs": [],
   "source": [
    "maxlen= 30"
   ]
  },
  {
   "cell_type": "code",
   "execution_count": 34,
   "id": "ef1265d3",
   "metadata": {
    "execution": {
     "iopub.execute_input": "2023-10-12T09:36:08.508376Z",
     "iopub.status.busy": "2023-10-12T09:36:08.507822Z",
     "iopub.status.idle": "2023-10-12T09:36:10.111816Z",
     "shell.execute_reply": "2023-10-12T09:36:10.110783Z"
    },
    "papermill": {
     "duration": 1.663738,
     "end_time": "2023-10-12T09:36:10.113994",
     "exception": false,
     "start_time": "2023-10-12T09:36:08.450256",
     "status": "completed"
    },
    "tags": []
   },
   "outputs": [],
   "source": [
    "# Pad sequences to a fixed length\n",
    "train_data_1 = pad_sequences(train_sequences_1, maxlen=maxlen,  padding='post')\n",
    "train_data_2 = pad_sequences(train_sequences_2, maxlen=maxlen,  padding='post')\n",
    "test_data_1 = pad_sequences(test_sequences_1, maxlen=maxlen,  padding='post')\n",
    "test_data_2 = pad_sequences(test_sequences_2, maxlen=maxlen,  padding='post')"
   ]
  },
  {
   "cell_type": "code",
   "execution_count": 35,
   "id": "068d7226",
   "metadata": {
    "execution": {
     "iopub.execute_input": "2023-10-12T09:36:10.234367Z",
     "iopub.status.busy": "2023-10-12T09:36:10.234017Z",
     "iopub.status.idle": "2023-10-12T09:36:10.239084Z",
     "shell.execute_reply": "2023-10-12T09:36:10.238054Z"
    },
    "papermill": {
     "duration": 0.070601,
     "end_time": "2023-10-12T09:36:10.240799",
     "exception": false,
     "start_time": "2023-10-12T09:36:10.170198",
     "status": "completed"
    },
    "tags": []
   },
   "outputs": [],
   "source": [
    "# Prepare the target labels\n",
    "train_labels = train_df['is_duplicate'].values\n",
    "test_labels = test_df['is_duplicate'].values"
   ]
  },
  {
   "cell_type": "code",
   "execution_count": 36,
   "id": "387dd3cb",
   "metadata": {
    "execution": {
     "iopub.execute_input": "2023-10-12T09:36:10.353908Z",
     "iopub.status.busy": "2023-10-12T09:36:10.352980Z",
     "iopub.status.idle": "2023-10-12T09:36:10.357900Z",
     "shell.execute_reply": "2023-10-12T09:36:10.357051Z"
    },
    "papermill": {
     "duration": 0.061761,
     "end_time": "2023-10-12T09:36:10.359593",
     "exception": false,
     "start_time": "2023-10-12T09:36:10.297832",
     "status": "completed"
    },
    "tags": []
   },
   "outputs": [],
   "source": [
    "# Reshape the labels to match the model's output shape\n",
    "train_labels_reshaped = np.expand_dims(train_labels, axis=-1)\n",
    "test_labels_reshaped = np.expand_dims(test_labels, axis=-1)"
   ]
  },
  {
   "cell_type": "code",
   "execution_count": 37,
   "id": "fc9800a5",
   "metadata": {
    "execution": {
     "iopub.execute_input": "2023-10-12T09:36:10.471999Z",
     "iopub.status.busy": "2023-10-12T09:36:10.471679Z",
     "iopub.status.idle": "2023-10-12T09:36:10.479781Z",
     "shell.execute_reply": "2023-10-12T09:36:10.478827Z"
    },
    "papermill": {
     "duration": 0.066691,
     "end_time": "2023-10-12T09:36:10.481506",
     "exception": false,
     "start_time": "2023-10-12T09:36:10.414815",
     "status": "completed"
    },
    "tags": []
   },
   "outputs": [
    {
     "data": {
      "text/plain": [
       "{0: 0.7927259090775399, 1: 1.3540412455727575}"
      ]
     },
     "execution_count": 37,
     "metadata": {},
     "output_type": "execute_result"
    }
   ],
   "source": [
    "#class weights\n",
    "total_samples = len(train_labels)\n",
    "class_0_count = np.sum(train_labels == 0)\n",
    "class_1_count = np.sum(train_labels == 1)\n",
    "\n",
    "weight_0 = total_samples / (2 * class_0_count)\n",
    "weight_1 = total_samples / (2 * class_1_count)\n",
    "\n",
    "class_weight = {0: weight_0, 1: weight_1}\n",
    "class_weight"
   ]
  },
  {
   "cell_type": "markdown",
   "id": "b47f999b",
   "metadata": {
    "papermill": {
     "duration": 0.054646,
     "end_time": "2023-10-12T09:36:10.592048",
     "exception": false,
     "start_time": "2023-10-12T09:36:10.537402",
     "status": "completed"
    },
    "tags": []
   },
   "source": [
    "## 7.0 GloVE Embedding"
   ]
  },
  {
   "cell_type": "code",
   "execution_count": 38,
   "id": "0101e5d6",
   "metadata": {
    "execution": {
     "iopub.execute_input": "2023-10-12T09:36:10.706036Z",
     "iopub.status.busy": "2023-10-12T09:36:10.705713Z",
     "iopub.status.idle": "2023-10-12T09:36:19.166738Z",
     "shell.execute_reply": "2023-10-12T09:36:19.165670Z"
    },
    "papermill": {
     "duration": 8.518755,
     "end_time": "2023-10-12T09:36:19.169077",
     "exception": false,
     "start_time": "2023-10-12T09:36:10.650322",
     "status": "completed"
    },
    "tags": []
   },
   "outputs": [],
   "source": [
    "file=open(GLOVE,'r', encoding='utf8')\n",
    "\n",
    "content=file.readlines()\n",
    "file.close()"
   ]
  },
  {
   "cell_type": "code",
   "execution_count": 39,
   "id": "f5b81f20",
   "metadata": {
    "execution": {
     "iopub.execute_input": "2023-10-12T09:36:19.293902Z",
     "iopub.status.busy": "2023-10-12T09:36:19.293568Z",
     "iopub.status.idle": "2023-10-12T09:36:35.043244Z",
     "shell.execute_reply": "2023-10-12T09:36:35.042097Z"
    },
    "papermill": {
     "duration": 15.812161,
     "end_time": "2023-10-12T09:36:35.045493",
     "exception": false,
     "start_time": "2023-10-12T09:36:19.233332",
     "status": "completed"
    },
    "tags": []
   },
   "outputs": [],
   "source": [
    "#creating word-vector dictionary\n",
    "embeddings={}\n",
    "\n",
    "for line in content:\n",
    "    line = line.split()\n",
    "    embeddings[line[0]] = np.array(line[1:], dtype = float)"
   ]
  },
  {
   "cell_type": "code",
   "execution_count": 40,
   "id": "40d3c855",
   "metadata": {
    "execution": {
     "iopub.execute_input": "2023-10-12T09:36:35.155485Z",
     "iopub.status.busy": "2023-10-12T09:36:35.155171Z",
     "iopub.status.idle": "2023-10-12T09:36:35.290271Z",
     "shell.execute_reply": "2023-10-12T09:36:35.289311Z"
    },
    "papermill": {
     "duration": 0.192581,
     "end_time": "2023-10-12T09:36:35.292360",
     "exception": false,
     "start_time": "2023-10-12T09:36:35.099779",
     "status": "completed"
    },
    "tags": []
   },
   "outputs": [],
   "source": [
    "def filter_glove(vocab_dict, glove_dict, wordvec_dim=200):\n",
    "    '''filter out only words from GloVe dictionary which are present in our corpus'''\n",
    "    embedding_matrix = np.zeros((len(vocab_dict) + 1, wordvec_dim))\n",
    "\n",
    "    for word, i in vocab_dict.items():\n",
    "        embedding_vector = glove_dict.get(word)\n",
    "\n",
    "        if embedding_vector is not None:\n",
    "        # if the words not found in the glove_dict will be all-zeros.\n",
    "            embedding_matrix[i] = embedding_vector\n",
    "\n",
    "    return embedding_matrix\n",
    "\n",
    "embedding_matrix= filter_glove(vocab, embeddings)"
   ]
  },
  {
   "cell_type": "markdown",
   "id": "4011a8ae",
   "metadata": {
    "papermill": {
     "duration": 0.05283,
     "end_time": "2023-10-12T09:36:35.402047",
     "exception": false,
     "start_time": "2023-10-12T09:36:35.349217",
     "status": "completed"
    },
    "tags": []
   },
   "source": [
    "## 8.0 Neural Architecture"
   ]
  },
  {
   "cell_type": "code",
   "execution_count": 41,
   "id": "1bcd33ce",
   "metadata": {
    "execution": {
     "iopub.execute_input": "2023-10-12T09:36:35.514054Z",
     "iopub.status.busy": "2023-10-12T09:36:35.513620Z",
     "iopub.status.idle": "2023-10-12T09:36:35.518979Z",
     "shell.execute_reply": "2023-10-12T09:36:35.517972Z"
    },
    "papermill": {
     "duration": 0.068302,
     "end_time": "2023-10-12T09:36:35.523525",
     "exception": false,
     "start_time": "2023-10-12T09:36:35.455223",
     "status": "completed"
    },
    "tags": []
   },
   "outputs": [],
   "source": [
    "#variables\n",
    "vocab_size = len(tokenizer.word_index) + 1\n",
    "input_shape = (maxlen,)"
   ]
  },
  {
   "cell_type": "code",
   "execution_count": 42,
   "id": "5feb07a5",
   "metadata": {
    "execution": {
     "iopub.execute_input": "2023-10-12T09:36:35.742494Z",
     "iopub.status.busy": "2023-10-12T09:36:35.742070Z",
     "iopub.status.idle": "2023-10-12T09:36:42.311817Z",
     "shell.execute_reply": "2023-10-12T09:36:42.310874Z"
    },
    "papermill": {
     "duration": 6.679221,
     "end_time": "2023-10-12T09:36:42.313880",
     "exception": false,
     "start_time": "2023-10-12T09:36:35.634659",
     "status": "completed"
    },
    "tags": []
   },
   "outputs": [],
   "source": [
    "# Defining the shared embedding layer\n",
    "embedding_layer = Embedding(input_dim=vocab_size, output_dim=200,\n",
    "                            weights=[embedding_matrix], input_length=maxlen,\n",
    "                            trainable=True)  # Fine-tune embeddings\n",
    "\n",
    "# Defining the input layers for question 1 and question 2\n",
    "question1_input = Input(shape=input_shape, name='question1_input')\n",
    "question2_input = Input(shape=input_shape, name='question2_input')\n",
    "\n",
    "# Applying the embedding layer to both inputs\n",
    "embedded_question1 = embedding_layer(question1_input)\n",
    "embedded_question2 = embedding_layer(question2_input)\n",
    "\n",
    "# Define the Bidirectional LSTM layers\n",
    "lstm_layer1 = Bidirectional(LSTM(units=32, return_sequences=True))\n",
    "lstm_layer2 = Bidirectional(LSTM(units=16, return_sequences=True))\n",
    "\n",
    "# Apply the LSTM layers to both embedded questions\n",
    "lstm_question1 = lstm_layer1(embedded_question1)\n",
    "lstm_question2 = lstm_layer1(embedded_question2)\n",
    "\n",
    "# Apply dropout after the first LSTM layer\n",
    "dropout1 = Dropout(0.2)(lstm_question1)\n",
    "dropout2 = Dropout(0.2)(lstm_question2)\n",
    "\n",
    "# Apply batch normalization after each LSTM layer\n",
    "bn1 = BatchNormalization()(dropout1)\n",
    "bn2 = BatchNormalization()(dropout2)\n",
    "\n",
    "# Apply the second LSTM layer\n",
    "lstm_question1 = lstm_layer2(bn1)\n",
    "lstm_question2 = lstm_layer2(bn2)\n",
    "\n",
    "# Apply attention mechanism\n",
    "attention1 = Attention()([lstm_question1, lstm_question2])\n",
    "attention2 = Attention()([lstm_question2, lstm_question1])\n",
    "\n",
    "# Concatenate the outputs of the attention layers\n",
    "merged_output = concatenate([attention1, attention2])\n",
    "\n",
    "# Flatten the merged output\n",
    "flatten_output = Flatten()(merged_output)\n",
    "\n",
    "# Add the output layer\n",
    "output = Dense(1, activation='sigmoid', kernel_regularizer=l2(0.01))(flatten_output)\n",
    "\n",
    "# Creating the Siamese model\n",
    "model = Model(inputs=[question1_input, question2_input], outputs=output)\n",
    "\n",
    "# Compile the model\n",
    "model.compile(optimizer='adam', loss='binary_crossentropy', metrics=['accuracy'])"
   ]
  },
  {
   "cell_type": "code",
   "execution_count": 43,
   "id": "e4646c98",
   "metadata": {
    "execution": {
     "iopub.execute_input": "2023-10-12T09:36:42.425757Z",
     "iopub.status.busy": "2023-10-12T09:36:42.425403Z",
     "iopub.status.idle": "2023-10-12T09:36:42.461134Z",
     "shell.execute_reply": "2023-10-12T09:36:42.460275Z"
    },
    "papermill": {
     "duration": 0.115081,
     "end_time": "2023-10-12T09:36:42.486270",
     "exception": false,
     "start_time": "2023-10-12T09:36:42.371189",
     "status": "completed"
    },
    "tags": []
   },
   "outputs": [
    {
     "name": "stdout",
     "output_type": "stream",
     "text": [
      "Model: \"model\"\n",
      "__________________________________________________________________________________________________\n",
      " Layer (type)                   Output Shape         Param #     Connected to                     \n",
      "==================================================================================================\n",
      " question1_input (InputLayer)   [(None, 30)]         0           []                               \n",
      "                                                                                                  \n",
      " question2_input (InputLayer)   [(None, 30)]         0           []                               \n",
      "                                                                                                  \n",
      " embedding (Embedding)          (None, 30, 200)      15784000    ['question1_input[0][0]',        \n",
      "                                                                  'question2_input[0][0]']        \n",
      "                                                                                                  \n",
      " bidirectional (Bidirectional)  (None, 30, 64)       59648       ['embedding[0][0]',              \n",
      "                                                                  'embedding[1][0]']              \n",
      "                                                                                                  \n",
      " dropout (Dropout)              (None, 30, 64)       0           ['bidirectional[0][0]']          \n",
      "                                                                                                  \n",
      " dropout_1 (Dropout)            (None, 30, 64)       0           ['bidirectional[1][0]']          \n",
      "                                                                                                  \n",
      " batch_normalization (BatchNorm  (None, 30, 64)      256         ['dropout[0][0]']                \n",
      " alization)                                                                                       \n",
      "                                                                                                  \n",
      " batch_normalization_1 (BatchNo  (None, 30, 64)      256         ['dropout_1[0][0]']              \n",
      " rmalization)                                                                                     \n",
      "                                                                                                  \n",
      " bidirectional_1 (Bidirectional  (None, 30, 32)      10368       ['batch_normalization[0][0]',    \n",
      " )                                                                'batch_normalization_1[0][0]']  \n",
      "                                                                                                  \n",
      " attention (Attention)          (None, 30, 32)       0           ['bidirectional_1[0][0]',        \n",
      "                                                                  'bidirectional_1[1][0]']        \n",
      "                                                                                                  \n",
      " attention_1 (Attention)        (None, 30, 32)       0           ['bidirectional_1[1][0]',        \n",
      "                                                                  'bidirectional_1[0][0]']        \n",
      "                                                                                                  \n",
      " concatenate (Concatenate)      (None, 30, 64)       0           ['attention[0][0]',              \n",
      "                                                                  'attention_1[0][0]']            \n",
      "                                                                                                  \n",
      " flatten (Flatten)              (None, 1920)         0           ['concatenate[0][0]']            \n",
      "                                                                                                  \n",
      " dense (Dense)                  (None, 1)            1921        ['flatten[0][0]']                \n",
      "                                                                                                  \n",
      "==================================================================================================\n",
      "Total params: 15,856,449\n",
      "Trainable params: 15,856,193\n",
      "Non-trainable params: 256\n",
      "__________________________________________________________________________________________________\n"
     ]
    }
   ],
   "source": [
    "model.summary()"
   ]
  },
  {
   "cell_type": "code",
   "execution_count": 44,
   "id": "af875576",
   "metadata": {
    "execution": {
     "iopub.execute_input": "2023-10-12T09:36:42.600649Z",
     "iopub.status.busy": "2023-10-12T09:36:42.600285Z",
     "iopub.status.idle": "2023-10-12T09:36:43.665511Z",
     "shell.execute_reply": "2023-10-12T09:36:43.664725Z"
    },
    "papermill": {
     "duration": 1.124965,
     "end_time": "2023-10-12T09:36:43.669174",
     "exception": false,
     "start_time": "2023-10-12T09:36:42.544209",
     "status": "completed"
    },
    "tags": []
   },
   "outputs": [
    {
     "data": {
      "image/png": "[encoded data removed]",
      "text/plain": [
       "<Figure size 1000x1000 with 1 Axes>"
      ]
     },
     "metadata": {},
     "output_type": "display_data"
    }
   ],
   "source": [
    "import matplotlib.pyplot as plt\n",
    "from tensorflow.keras.utils import plot_model\n",
    "\n",
    "# Generate the model architecture plot\n",
    "plot_model(model, to_file='model_architecture.png', show_shapes=True)\n",
    "\n",
    "# Load the image and add formatting\n",
    "image = plt.imread('model_architecture.png')\n",
    "fig, ax = plt.subplots(figsize=(10, 10))\n",
    "ax.imshow(image)\n",
    "\n",
    "# Add title and remove axes\n",
    "ax.set_title('Model Architecture', fontsize=20, fontweight='bold')\n",
    "ax.axis('off')\n",
    "\n",
    "# Add a border around the plot\n",
    "ax.spines['top'].set_visible(True)\n",
    "ax.spines['bottom'].set_visible(True)\n",
    "ax.spines['left'].set_visible(True)\n",
    "ax.spines['right'].set_visible(True)\n",
    "\n",
    "# Add a background color to the plot\n",
    "ax.patch.set_facecolor('#f9f9f9')\n",
    "ax.patch.set_alpha(0.9)\n",
    "\n",
    "# Save and display the plot\n",
    "plt.savefig('formatted_model_architecture.png', bbox_inches='tight', pad_inches=0);"
   ]
  },
  {
   "cell_type": "code",
   "execution_count": 45,
   "id": "cb633740",
   "metadata": {
    "execution": {
     "iopub.execute_input": "2023-10-12T09:36:43.792192Z",
     "iopub.status.busy": "2023-10-12T09:36:43.791843Z",
     "iopub.status.idle": "2023-10-12T09:39:31.405831Z",
     "shell.execute_reply": "2023-10-12T09:39:31.404550Z"
    },
    "papermill": {
     "duration": 167.677711,
     "end_time": "2023-10-12T09:39:31.407834",
     "exception": false,
     "start_time": "2023-10-12T09:36:43.730123",
     "status": "completed"
    },
    "tags": []
   },
   "outputs": [
    {
     "name": "stdout",
     "output_type": "stream",
     "text": [
      "Epoch 1/30\n",
      "158/158 [==============================] - ETA: 0s - loss: 0.5480 - accuracy: 0.7175\n",
      "Epoch 1: val_loss improved from inf to 0.65055, saving model to model.weights.best.hdf5\n",
      "158/158 [==============================] - 53s 230ms/step - loss: 0.5480 - accuracy: 0.7175 - val_loss: 0.6505 - val_accuracy: 0.6537\n",
      "Epoch 2/30\n",
      "158/158 [==============================] - ETA: 0s - loss: 0.4451 - accuracy: 0.7876\n",
      "Epoch 2: val_loss improved from 0.65055 to 0.51355, saving model to model.weights.best.hdf5\n",
      "158/158 [==============================] - 24s 156ms/step - loss: 0.4451 - accuracy: 0.7876 - val_loss: 0.5135 - val_accuracy: 0.7439\n",
      "Epoch 3/30\n",
      "158/158 [==============================] - ETA: 0s - loss: 0.3869 - accuracy: 0.8202\n",
      "Epoch 3: val_loss improved from 0.51355 to 0.44416, saving model to model.weights.best.hdf5\n",
      "158/158 [==============================] - 19s 121ms/step - loss: 0.3869 - accuracy: 0.8202 - val_loss: 0.4442 - val_accuracy: 0.7933\n",
      "Epoch 4/30\n",
      "158/158 [==============================] - ETA: 0s - loss: 0.3420 - accuracy: 0.8441\n",
      "Epoch 4: val_loss did not improve from 0.44416\n",
      "158/158 [==============================] - 15s 95ms/step - loss: 0.3420 - accuracy: 0.8441 - val_loss: 0.4707 - val_accuracy: 0.7821\n",
      "Epoch 5/30\n",
      "158/158 [==============================] - ETA: 0s - loss: 0.3078 - accuracy: 0.8624\n",
      "Epoch 5: val_loss improved from 0.44416 to 0.43662, saving model to model.weights.best.hdf5\n",
      "158/158 [==============================] - 16s 100ms/step - loss: 0.3078 - accuracy: 0.8624 - val_loss: 0.4366 - val_accuracy: 0.8151\n",
      "Epoch 6/30\n",
      "158/158 [==============================] - ETA: 0s - loss: 0.2807 - accuracy: 0.8767\n",
      "Epoch 6: val_loss did not improve from 0.43662\n",
      "158/158 [==============================] - 14s 88ms/step - loss: 0.2807 - accuracy: 0.8767 - val_loss: 0.4398 - val_accuracy: 0.8176\n",
      "Epoch 7/30\n",
      "158/158 [==============================] - ETA: 0s - loss: 0.2610 - accuracy: 0.8873\n",
      "Epoch 7: val_loss did not improve from 0.43662\n",
      "158/158 [==============================] - 14s 86ms/step - loss: 0.2610 - accuracy: 0.8873 - val_loss: 0.4479 - val_accuracy: 0.8137\n",
      "Epoch 8/30\n",
      "158/158 [==============================] - ETA: 0s - loss: 0.2443 - accuracy: 0.8954\n",
      "Epoch 8: val_loss did not improve from 0.43662\n",
      "158/158 [==============================] - 12s 76ms/step - loss: 0.2443 - accuracy: 0.8954 - val_loss: 0.4596 - val_accuracy: 0.8105\n"
     ]
    }
   ],
   "source": [
    "#model1\n",
    "stopper= EarlyStopping(patience=3, monitor='val_loss')\n",
    "checkpointer = ModelCheckpoint(filepath='model.weights.best.hdf5', verbose=3, save_best_only=True)\n",
    "\n",
    "history=model.fit(\n",
    "        [train_data_1, train_data_2], train_labels_reshaped, \n",
    "         batch_size=2048, \n",
    "         epochs=30, \n",
    "         validation_data=([test_data_1, test_data_2], test_labels_reshaped), \n",
    "         callbacks=[stopper, checkpointer],\n",
    "         class_weight=class_weight, \n",
    "         shuffle=True\n",
    "         )"
   ]
  },
  {
   "cell_type": "code",
   "execution_count": 46,
   "id": "b7d2b13c",
   "metadata": {
    "execution": {
     "iopub.execute_input": "2023-10-12T09:39:31.646674Z",
     "iopub.status.busy": "2023-10-12T09:39:31.646349Z",
     "iopub.status.idle": "2023-10-12T09:39:31.800766Z",
     "shell.execute_reply": "2023-10-12T09:39:31.799783Z"
    },
    "papermill": {
     "duration": 0.272699,
     "end_time": "2023-10-12T09:39:31.802960",
     "exception": false,
     "start_time": "2023-10-12T09:39:31.530261",
     "status": "completed"
    },
    "tags": []
   },
   "outputs": [],
   "source": [
    "#loading best model\n",
    "model.load_weights('model.weights.best.hdf5')"
   ]
  },
  {
   "cell_type": "markdown",
   "id": "03e979b4",
   "metadata": {
    "papermill": {
     "duration": 0.118712,
     "end_time": "2023-10-12T09:39:32.040922",
     "exception": false,
     "start_time": "2023-10-12T09:39:31.922210",
     "status": "completed"
    },
    "tags": []
   },
   "source": [
    "## 9.0 Test Data"
   ]
  },
  {
   "cell_type": "code",
   "execution_count": 47,
   "id": "4ca8c561",
   "metadata": {
    "execution": {
     "iopub.execute_input": "2023-10-12T09:39:32.270983Z",
     "iopub.status.busy": "2023-10-12T09:39:32.270660Z",
     "iopub.status.idle": "2023-10-12T09:39:32.287535Z",
     "shell.execute_reply": "2023-10-12T09:39:32.286711Z"
    },
    "papermill": {
     "duration": 0.134952,
     "end_time": "2023-10-12T09:39:32.289301",
     "exception": false,
     "start_time": "2023-10-12T09:39:32.154349",
     "status": "completed"
    },
    "tags": []
   },
   "outputs": [],
   "source": [
    "test_chunks=pd.read_csv(TEST_DATA_PATH, chunksize=chunk_size)"
   ]
  },
  {
   "cell_type": "code",
   "execution_count": 48,
   "id": "ef13af15",
   "metadata": {
    "execution": {
     "iopub.execute_input": "2023-10-12T09:39:32.523067Z",
     "iopub.status.busy": "2023-10-12T09:39:32.522771Z",
     "iopub.status.idle": "2023-10-12T09:53:32.680081Z",
     "shell.execute_reply": "2023-10-12T09:53:32.679075Z"
    },
    "papermill": {
     "duration": 840.274008,
     "end_time": "2023-10-12T09:53:32.681944",
     "exception": false,
     "start_time": "2023-10-12T09:39:32.407936",
     "status": "completed"
    },
    "tags": []
   },
   "outputs": [
    {
     "name": "stderr",
     "output_type": "stream",
     "text": [
      "Processing chunks:: 100%|██████████| 47/47 [13:16<00:00, 16.95s/it]\n"
     ]
    },
    {
     "data": {
      "text/html": [
       "<div>\n",
       "<style scoped>\n",
       "    .dataframe tbody tr th:only-of-type {\n",
       "        vertical-align: middle;\n",
       "    }\n",
       "\n",
       "    .dataframe tbody tr th {\n",
       "        vertical-align: top;\n",
       "    }\n",
       "\n",
       "    .dataframe thead th {\n",
       "        text-align: right;\n",
       "    }\n",
       "</style>\n",
       "<table border=\"1\" class=\"dataframe\">\n",
       "  <thead>\n",
       "    <tr style=\"text-align: right;\">\n",
       "      <th></th>\n",
       "      <th>test_id</th>\n",
       "      <th>new_ques1</th>\n",
       "      <th>new_ques2</th>\n",
       "    </tr>\n",
       "  </thead>\n",
       "  <tbody>\n",
       "    <tr>\n",
       "      <th>0</th>\n",
       "      <td>0</td>\n",
       "      <td>doe  surfac pro  four compar  ipad pro</td>\n",
       "      <td>whi  microsoft choos core m3   core i3 home su...</td>\n",
       "    </tr>\n",
       "    <tr>\n",
       "      <th>1</th>\n",
       "      <td>1</td>\n",
       "      <td>hair transplant  age twenty-four  much wou...</td>\n",
       "      <td>much cost doe hair transplant requir</td>\n",
       "    </tr>\n",
       "    <tr>\n",
       "      <th>2</th>\n",
       "      <td>2</td>\n",
       "      <td>best way  send money  china   us</td>\n",
       "      <td>send money  china</td>\n",
       "    </tr>\n",
       "    <tr>\n",
       "      <th>3</th>\n",
       "      <td>3</td>\n",
       "      <td>food  emulsifi</td>\n",
       "      <td>food fibr</td>\n",
       "    </tr>\n",
       "    <tr>\n",
       "      <th>4</th>\n",
       "      <td>4</td>\n",
       "      <td>aberystwyth start read</td>\n",
       "      <td>start read</td>\n",
       "    </tr>\n",
       "    <tr>\n",
       "      <th>...</th>\n",
       "      <td>...</td>\n",
       "      <td>...</td>\n",
       "      <td>...</td>\n",
       "    </tr>\n",
       "    <tr>\n",
       "      <th>2345785</th>\n",
       "      <td>2345791</td>\n",
       "      <td>peak tv seri whi  leland kill laura palmer</td>\n",
       "      <td>studi scene  twin peak</td>\n",
       "    </tr>\n",
       "    <tr>\n",
       "      <th>2345786</th>\n",
       "      <td>2345792</td>\n",
       "      <td>doe   transit mean  fedex track</td>\n",
       "      <td>question fedex packag deliv</td>\n",
       "    </tr>\n",
       "    <tr>\n",
       "      <th>2345787</th>\n",
       "      <td>2345793</td>\n",
       "      <td>famous romanian drink alcohol non alcohol</td>\n",
       "      <td>non alcohol restaur   huge success</td>\n",
       "    </tr>\n",
       "    <tr>\n",
       "      <th>2345788</th>\n",
       "      <td>2345794</td>\n",
       "      <td>best  worst thing  public transit  proddatu...</td>\n",
       "      <td>best  worst thing examin public transit  vi...</td>\n",
       "    </tr>\n",
       "    <tr>\n",
       "      <th>2345789</th>\n",
       "      <td>2345795</td>\n",
       "      <td>best medic equat erectil dysfunct</td>\n",
       "      <td>get rid  erectil dysfunct</td>\n",
       "    </tr>\n",
       "  </tbody>\n",
       "</table>\n",
       "<p>2345790 rows × 3 columns</p>\n",
       "</div>"
      ],
      "text/plain": [
       "         test_id                                          new_ques1  \\\n",
       "0              0             doe  surfac pro  four compar  ipad pro   \n",
       "1              1      hair transplant  age twenty-four  much wou...   \n",
       "2              2                   best way  send money  china   us   \n",
       "3              3                                     food  emulsifi   \n",
       "4              4                             aberystwyth start read   \n",
       "...          ...                                                ...   \n",
       "2345785  2345791         peak tv seri whi  leland kill laura palmer   \n",
       "2345786  2345792                    doe   transit mean  fedex track   \n",
       "2345787  2345793          famous romanian drink alcohol non alcohol   \n",
       "2345788  2345794     best  worst thing  public transit  proddatu...   \n",
       "2345789  2345795                  best medic equat erectil dysfunct   \n",
       "\n",
       "                                                 new_ques2  \n",
       "0        whi  microsoft choos core m3   core i3 home su...  \n",
       "1                     much cost doe hair transplant requir  \n",
       "2                                        send money  china  \n",
       "3                                                food fibr  \n",
       "4                                               start read  \n",
       "...                                                    ...  \n",
       "2345785                             studi scene  twin peak  \n",
       "2345786                        question fedex packag deliv  \n",
       "2345787                 non alcohol restaur   huge success  \n",
       "2345788     best  worst thing examin public transit  vi...  \n",
       "2345789                          get rid  erectil dysfunct  \n",
       "\n",
       "[2345790 rows x 3 columns]"
      ]
     },
     "metadata": {},
     "output_type": "display_data"
    }
   ],
   "source": [
    "test = pd.DataFrame()\n",
    "\n",
    "for chunk in tqdm(test_chunks,total=47, desc='Processing chunks:'):\n",
    "    \n",
    "    if len(chunk) > 0:\n",
    "        # Operation 1: Drop rows with missing values\n",
    "        chunk.dropna(inplace=True)\n",
    "\n",
    "        # Operation 2: Convert to lowercase\n",
    "        chunk['new_ques1'] = chunk['question1'].apply(lower_casing)\n",
    "        chunk['new_ques2'] = chunk['question2'].apply(lower_casing)\n",
    "\n",
    "        chunk=chunk.drop(columns=['question1', 'question2'])\n",
    "\n",
    "        # Operation 3: Replace punctuation and short forms\n",
    "        chunk['new_ques1'] = chunk['new_ques1'].apply(replacements)\n",
    "        chunk['new_ques2'] = chunk['new_ques2'].apply(replacements)\n",
    "\n",
    "         # Operation 4: converting numbers to text\n",
    "        chunk['new_ques1'] = chunk['new_ques1'].apply(num_to_words)\n",
    "        chunk['new_ques2'] = chunk['new_ques2'].apply(num_to_words)\n",
    "\n",
    "        # Operation 5: Snowball Stemming\n",
    "        chunk['new_ques1'] = chunk['new_ques1'].apply(stem_words)\n",
    "        chunk['new_ques2'] = chunk['new_ques2'].apply(stem_words)\n",
    "\n",
    "        # Operation 6: Removing Stopwords\n",
    "        chunk['new_ques1'] = chunk['new_ques1'].apply(remove_stopwords)\n",
    "        chunk['new_ques2'] = chunk['new_ques2'].apply(remove_stopwords)\n",
    "\n",
    "        # Appending the processed chunk to the list\n",
    "        test=pd.concat([test, chunk], ignore_index=True)\n",
    "        \n",
    "display(test)"
   ]
  },
  {
   "cell_type": "code",
   "execution_count": 49,
   "id": "5435146e",
   "metadata": {
    "execution": {
     "iopub.execute_input": "2023-10-12T09:53:32.917920Z",
     "iopub.status.busy": "2023-10-12T09:53:32.917149Z",
     "iopub.status.idle": "2023-10-12T09:54:26.199022Z",
     "shell.execute_reply": "2023-10-12T09:54:26.197995Z"
    },
    "papermill": {
     "duration": 53.399875,
     "end_time": "2023-10-12T09:54:26.201134",
     "exception": false,
     "start_time": "2023-10-12T09:53:32.801259",
     "status": "completed"
    },
    "tags": []
   },
   "outputs": [],
   "source": [
    "test_seq_que_1 = tokenizer.texts_to_sequences(test['new_ques1'].values)\n",
    "test_seq_que_2 = tokenizer.texts_to_sequences(test['new_ques2'].values)\n",
    "\n",
    "# Pad sequences to a fixed length\n",
    "test_seq_que_1 = pad_sequences(test_seq_que_1, maxlen=maxlen,  padding='post')\n",
    "test_seq_que_2 = pad_sequences(test_seq_que_2, maxlen=maxlen,  padding='post')"
   ]
  },
  {
   "cell_type": "markdown",
   "id": "a55168cb",
   "metadata": {
    "papermill": {
     "duration": 0.115326,
     "end_time": "2023-10-12T09:54:26.435877",
     "exception": false,
     "start_time": "2023-10-12T09:54:26.320551",
     "status": "completed"
    },
    "tags": []
   },
   "source": [
    "## 10.0 Prediction"
   ]
  },
  {
   "cell_type": "code",
   "execution_count": 50,
   "id": "9e10b8d0",
   "metadata": {
    "execution": {
     "iopub.execute_input": "2023-10-12T09:54:26.711589Z",
     "iopub.status.busy": "2023-10-12T09:54:26.711233Z",
     "iopub.status.idle": "2023-10-12T09:54:27.065220Z",
     "shell.execute_reply": "2023-10-12T09:54:27.064160Z"
    },
    "papermill": {
     "duration": 0.471681,
     "end_time": "2023-10-12T09:54:27.067240",
     "exception": false,
     "start_time": "2023-10-12T09:54:26.595559",
     "status": "completed"
    },
    "tags": []
   },
   "outputs": [],
   "source": [
    "submission=pd.read_csv(SUB_DATA)"
   ]
  },
  {
   "cell_type": "code",
   "execution_count": 51,
   "id": "703ef4ee",
   "metadata": {
    "execution": {
     "iopub.execute_input": "2023-10-12T09:54:27.312024Z",
     "iopub.status.busy": "2023-10-12T09:54:27.311708Z",
     "iopub.status.idle": "2023-10-12T10:04:52.254936Z",
     "shell.execute_reply": "2023-10-12T10:04:52.253865Z"
    },
    "papermill": {
     "duration": 625.07059,
     "end_time": "2023-10-12T10:04:52.257546",
     "exception": false,
     "start_time": "2023-10-12T09:54:27.186956",
     "status": "completed"
    },
    "tags": []
   },
   "outputs": [
    {
     "name": "stdout",
     "output_type": "stream",
     "text": [
      "73306/73306 [==============================] - 565s 8ms/step\n"
     ]
    }
   ],
   "source": [
    "pred=model.predict([test_seq_que_1, test_seq_que_2])"
   ]
  },
  {
   "cell_type": "code",
   "execution_count": 52,
   "id": "00cd5f7e",
   "metadata": {
    "execution": {
     "iopub.execute_input": "2023-10-12T10:04:53.492950Z",
     "iopub.status.busy": "2023-10-12T10:04:53.492602Z",
     "iopub.status.idle": "2023-10-12T10:04:53.500412Z",
     "shell.execute_reply": "2023-10-12T10:04:53.499398Z"
    },
    "papermill": {
     "duration": 0.606897,
     "end_time": "2023-10-12T10:04:53.502262",
     "exception": false,
     "start_time": "2023-10-12T10:04:52.895365",
     "status": "completed"
    },
    "tags": []
   },
   "outputs": [],
   "source": [
    "pred_binary=(pred > 0.5).astype(int)"
   ]
  },
  {
   "cell_type": "code",
   "execution_count": 53,
   "id": "83025e17",
   "metadata": {
    "execution": {
     "iopub.execute_input": "2023-10-12T10:04:54.701916Z",
     "iopub.status.busy": "2023-10-12T10:04:54.701404Z",
     "iopub.status.idle": "2023-10-12T10:04:54.708448Z",
     "shell.execute_reply": "2023-10-12T10:04:54.707547Z"
    },
    "papermill": {
     "duration": 0.583097,
     "end_time": "2023-10-12T10:04:54.710259",
     "exception": false,
     "start_time": "2023-10-12T10:04:54.127162",
     "status": "completed"
    },
    "tags": []
   },
   "outputs": [
    {
     "data": {
      "text/plain": [
       "array([[0],\n",
       "       [0],\n",
       "       [0],\n",
       "       [0],\n",
       "       [1],\n",
       "       [0],\n",
       "       [1],\n",
       "       [1],\n",
       "       [0],\n",
       "       [0]])"
      ]
     },
     "execution_count": 53,
     "metadata": {},
     "output_type": "execute_result"
    }
   ],
   "source": [
    "pred_binary[:10]"
   ]
  },
  {
   "cell_type": "code",
   "execution_count": 54,
   "id": "010fe549",
   "metadata": {
    "execution": {
     "iopub.execute_input": "2023-10-12T10:04:55.927124Z",
     "iopub.status.busy": "2023-10-12T10:04:55.926599Z",
     "iopub.status.idle": "2023-10-12T10:04:55.933332Z",
     "shell.execute_reply": "2023-10-12T10:04:55.932309Z"
    },
    "papermill": {
     "duration": 0.587264,
     "end_time": "2023-10-12T10:04:55.935154",
     "exception": false,
     "start_time": "2023-10-12T10:04:55.347890",
     "status": "completed"
    },
    "tags": []
   },
   "outputs": [
    {
     "data": {
      "text/plain": [
       "(2345790, 1)"
      ]
     },
     "execution_count": 54,
     "metadata": {},
     "output_type": "execute_result"
    }
   ],
   "source": [
    "pred_binary.shape"
   ]
  },
  {
   "cell_type": "code",
   "execution_count": 55,
   "id": "92e1c8a8",
   "metadata": {
    "execution": {
     "iopub.execute_input": "2023-10-12T10:04:57.173009Z",
     "iopub.status.busy": "2023-10-12T10:04:57.172504Z",
     "iopub.status.idle": "2023-10-12T10:04:57.858136Z",
     "shell.execute_reply": "2023-10-12T10:04:57.857079Z"
    },
    "papermill": {
     "duration": 1.303541,
     "end_time": "2023-10-12T10:04:57.860149",
     "exception": false,
     "start_time": "2023-10-12T10:04:56.556608",
     "status": "completed"
    },
    "tags": []
   },
   "outputs": [
    {
     "data": {
      "text/plain": [
       "{2345790, 2345791, 2345792, 2345793, 2345794, 2345795}"
      ]
     },
     "execution_count": 55,
     "metadata": {},
     "output_type": "execute_result"
    }
   ],
   "source": [
    "#extracting index which we have dropped from test data because of null values\n",
    "index=set(submission.index).difference(set(test.index))\n",
    "index"
   ]
  },
  {
   "cell_type": "code",
   "execution_count": 56,
   "id": "04c0f2e7",
   "metadata": {
    "execution": {
     "iopub.execute_input": "2023-10-12T10:04:59.087930Z",
     "iopub.status.busy": "2023-10-12T10:04:59.087601Z",
     "iopub.status.idle": "2023-10-12T10:04:59.238144Z",
     "shell.execute_reply": "2023-10-12T10:04:59.236667Z"
    },
    "papermill": {
     "duration": 0.780209,
     "end_time": "2023-10-12T10:04:59.242355",
     "exception": false,
     "start_time": "2023-10-12T10:04:58.462146",
     "status": "completed"
    },
    "tags": []
   },
   "outputs": [],
   "source": [
    "#dropping these index from submission\n",
    "submission.drop(index=index, inplace=True)"
   ]
  },
  {
   "cell_type": "code",
   "execution_count": 57,
   "id": "b887945a",
   "metadata": {
    "execution": {
     "iopub.execute_input": "2023-10-12T10:05:00.455299Z",
     "iopub.status.busy": "2023-10-12T10:05:00.454926Z",
     "iopub.status.idle": "2023-10-12T10:05:00.476003Z",
     "shell.execute_reply": "2023-10-12T10:05:00.475139Z"
    },
    "papermill": {
     "duration": 0.64714,
     "end_time": "2023-10-12T10:05:00.477728",
     "exception": false,
     "start_time": "2023-10-12T10:04:59.830588",
     "status": "completed"
    },
    "tags": []
   },
   "outputs": [],
   "source": [
    "submission['test_id']=test['test_id']\n",
    "submission['is_duplicate']=pred_binary"
   ]
  },
  {
   "cell_type": "code",
   "execution_count": 58,
   "id": "b22d7617",
   "metadata": {
    "execution": {
     "iopub.execute_input": "2023-10-12T10:05:02.077820Z",
     "iopub.status.busy": "2023-10-12T10:05:02.077382Z",
     "iopub.status.idle": "2023-10-12T10:05:02.090156Z",
     "shell.execute_reply": "2023-10-12T10:05:02.089350Z"
    },
    "papermill": {
     "duration": 1.044523,
     "end_time": "2023-10-12T10:05:02.092789",
     "exception": false,
     "start_time": "2023-10-12T10:05:01.048266",
     "status": "completed"
    },
    "tags": []
   },
   "outputs": [
    {
     "data": {
      "text/html": [
       "<div>\n",
       "<style scoped>\n",
       "    .dataframe tbody tr th:only-of-type {\n",
       "        vertical-align: middle;\n",
       "    }\n",
       "\n",
       "    .dataframe tbody tr th {\n",
       "        vertical-align: top;\n",
       "    }\n",
       "\n",
       "    .dataframe thead th {\n",
       "        text-align: right;\n",
       "    }\n",
       "</style>\n",
       "<table border=\"1\" class=\"dataframe\">\n",
       "  <thead>\n",
       "    <tr style=\"text-align: right;\">\n",
       "      <th></th>\n",
       "      <th>test_id</th>\n",
       "      <th>is_duplicate</th>\n",
       "    </tr>\n",
       "  </thead>\n",
       "  <tbody>\n",
       "    <tr>\n",
       "      <th>0</th>\n",
       "      <td>0</td>\n",
       "      <td>0</td>\n",
       "    </tr>\n",
       "    <tr>\n",
       "      <th>1</th>\n",
       "      <td>1</td>\n",
       "      <td>0</td>\n",
       "    </tr>\n",
       "    <tr>\n",
       "      <th>2</th>\n",
       "      <td>2</td>\n",
       "      <td>0</td>\n",
       "    </tr>\n",
       "    <tr>\n",
       "      <th>3</th>\n",
       "      <td>3</td>\n",
       "      <td>0</td>\n",
       "    </tr>\n",
       "    <tr>\n",
       "      <th>4</th>\n",
       "      <td>4</td>\n",
       "      <td>1</td>\n",
       "    </tr>\n",
       "    <tr>\n",
       "      <th>5</th>\n",
       "      <td>5</td>\n",
       "      <td>0</td>\n",
       "    </tr>\n",
       "    <tr>\n",
       "      <th>6</th>\n",
       "      <td>6</td>\n",
       "      <td>1</td>\n",
       "    </tr>\n",
       "    <tr>\n",
       "      <th>7</th>\n",
       "      <td>7</td>\n",
       "      <td>1</td>\n",
       "    </tr>\n",
       "    <tr>\n",
       "      <th>8</th>\n",
       "      <td>8</td>\n",
       "      <td>0</td>\n",
       "    </tr>\n",
       "    <tr>\n",
       "      <th>9</th>\n",
       "      <td>9</td>\n",
       "      <td>0</td>\n",
       "    </tr>\n",
       "  </tbody>\n",
       "</table>\n",
       "</div>"
      ],
      "text/plain": [
       "   test_id  is_duplicate\n",
       "0        0             0\n",
       "1        1             0\n",
       "2        2             0\n",
       "3        3             0\n",
       "4        4             1\n",
       "5        5             0\n",
       "6        6             1\n",
       "7        7             1\n",
       "8        8             0\n",
       "9        9             0"
      ]
     },
     "execution_count": 58,
     "metadata": {},
     "output_type": "execute_result"
    }
   ],
   "source": [
    "submission[:10]"
   ]
  },
  {
   "cell_type": "code",
   "execution_count": 59,
   "id": "5adb9e65",
   "metadata": {
    "execution": {
     "iopub.execute_input": "2023-10-12T10:05:03.679657Z",
     "iopub.status.busy": "2023-10-12T10:05:03.679304Z",
     "iopub.status.idle": "2023-10-12T10:05:03.684025Z",
     "shell.execute_reply": "2023-10-12T10:05:03.683043Z"
    },
    "papermill": {
     "duration": 0.649004,
     "end_time": "2023-10-12T10:05:03.685795",
     "exception": false,
     "start_time": "2023-10-12T10:05:03.036791",
     "status": "completed"
    },
    "tags": []
   },
   "outputs": [],
   "source": [
    "# Select the first two rows\n",
    "selected_rows = submission.iloc[:-2]\n"
   ]
  },
  {
   "cell_type": "code",
   "execution_count": 60,
   "id": "982a6c91",
   "metadata": {
    "execution": {
     "iopub.execute_input": "2023-10-12T10:05:04.877428Z",
     "iopub.status.busy": "2023-10-12T10:05:04.877061Z",
     "iopub.status.idle": "2023-10-12T10:05:04.886061Z",
     "shell.execute_reply": "2023-10-12T10:05:04.885148Z"
    },
    "papermill": {
     "duration": 0.629628,
     "end_time": "2023-10-12T10:05:04.887931",
     "exception": false,
     "start_time": "2023-10-12T10:05:04.258303",
     "status": "completed"
    },
    "tags": []
   },
   "outputs": [
    {
     "data": {
      "text/html": [
       "<div>\n",
       "<style scoped>\n",
       "    .dataframe tbody tr th:only-of-type {\n",
       "        vertical-align: middle;\n",
       "    }\n",
       "\n",
       "    .dataframe tbody tr th {\n",
       "        vertical-align: top;\n",
       "    }\n",
       "\n",
       "    .dataframe thead th {\n",
       "        text-align: right;\n",
       "    }\n",
       "</style>\n",
       "<table border=\"1\" class=\"dataframe\">\n",
       "  <thead>\n",
       "    <tr style=\"text-align: right;\">\n",
       "      <th></th>\n",
       "      <th>test_id</th>\n",
       "      <th>is_duplicate</th>\n",
       "    </tr>\n",
       "  </thead>\n",
       "  <tbody>\n",
       "    <tr>\n",
       "      <th>0</th>\n",
       "      <td>0</td>\n",
       "      <td>0</td>\n",
       "    </tr>\n",
       "    <tr>\n",
       "      <th>1</th>\n",
       "      <td>1</td>\n",
       "      <td>0</td>\n",
       "    </tr>\n",
       "    <tr>\n",
       "      <th>2</th>\n",
       "      <td>2</td>\n",
       "      <td>0</td>\n",
       "    </tr>\n",
       "    <tr>\n",
       "      <th>3</th>\n",
       "      <td>3</td>\n",
       "      <td>0</td>\n",
       "    </tr>\n",
       "    <tr>\n",
       "      <th>4</th>\n",
       "      <td>4</td>\n",
       "      <td>1</td>\n",
       "    </tr>\n",
       "    <tr>\n",
       "      <th>5</th>\n",
       "      <td>5</td>\n",
       "      <td>0</td>\n",
       "    </tr>\n",
       "    <tr>\n",
       "      <th>6</th>\n",
       "      <td>6</td>\n",
       "      <td>1</td>\n",
       "    </tr>\n",
       "    <tr>\n",
       "      <th>7</th>\n",
       "      <td>7</td>\n",
       "      <td>1</td>\n",
       "    </tr>\n",
       "    <tr>\n",
       "      <th>8</th>\n",
       "      <td>8</td>\n",
       "      <td>0</td>\n",
       "    </tr>\n",
       "    <tr>\n",
       "      <th>9</th>\n",
       "      <td>9</td>\n",
       "      <td>0</td>\n",
       "    </tr>\n",
       "  </tbody>\n",
       "</table>\n",
       "</div>"
      ],
      "text/plain": [
       "   test_id  is_duplicate\n",
       "0        0             0\n",
       "1        1             0\n",
       "2        2             0\n",
       "3        3             0\n",
       "4        4             1\n",
       "5        5             0\n",
       "6        6             1\n",
       "7        7             1\n",
       "8        8             0\n",
       "9        9             0"
      ]
     },
     "execution_count": 60,
     "metadata": {},
     "output_type": "execute_result"
    }
   ],
   "source": [
    "selected_rows[:10]"
   ]
  },
  {
   "cell_type": "code",
   "execution_count": 61,
   "id": "91f99cf8",
   "metadata": {
    "execution": {
     "iopub.execute_input": "2023-10-12T10:05:06.107458Z",
     "iopub.status.busy": "2023-10-12T10:05:06.107135Z",
     "iopub.status.idle": "2023-10-12T10:05:08.417353Z",
     "shell.execute_reply": "2023-10-12T10:05:08.416396Z"
    },
    "papermill": {
     "duration": 2.90883,
     "end_time": "2023-10-12T10:05:08.419434",
     "exception": false,
     "start_time": "2023-10-12T10:05:05.510604",
     "status": "completed"
    },
    "tags": []
   },
   "outputs": [],
   "source": [
    "# Save the selected rows to a new CSV file\n",
    "selected_rows.to_csv('selected_rows.csv', index=False) "
   ]
  },
  {
   "cell_type": "code",
   "execution_count": 62,
   "id": "13ffd5bd",
   "metadata": {
    "execution": {
     "iopub.execute_input": "2023-10-12T10:05:09.681638Z",
     "iopub.status.busy": "2023-10-12T10:05:09.681230Z",
     "iopub.status.idle": "2023-10-12T10:05:11.938292Z",
     "shell.execute_reply": "2023-10-12T10:05:11.937316Z"
    },
    "papermill": {
     "duration": 2.879415,
     "end_time": "2023-10-12T10:05:11.940450",
     "exception": false,
     "start_time": "2023-10-12T10:05:09.061035",
     "status": "completed"
    },
    "tags": []
   },
   "outputs": [],
   "source": [
    "submission.to_csv('submission.csv', index=False)"
   ]
  },
  {
   "cell_type": "code",
   "execution_count": 63,
   "id": "3925d597",
   "metadata": {
    "execution": {
     "iopub.execute_input": "2023-10-12T10:05:13.147864Z",
     "iopub.status.busy": "2023-10-12T10:05:13.147478Z",
     "iopub.status.idle": "2023-10-12T10:05:13.156871Z",
     "shell.execute_reply": "2023-10-12T10:05:13.155936Z"
    },
    "papermill": {
     "duration": 0.645354,
     "end_time": "2023-10-12T10:05:13.159162",
     "exception": false,
     "start_time": "2023-10-12T10:05:12.513808",
     "status": "completed"
    },
    "tags": []
   },
   "outputs": [
    {
     "name": "stdout",
     "output_type": "stream",
     "text": [
      "<class 'pandas.core.frame.DataFrame'>\n",
      "Index: 2345790 entries, 0 to 2345789\n",
      "Data columns (total 2 columns):\n",
      " #   Column        Dtype\n",
      "---  ------        -----\n",
      " 0   test_id       int64\n",
      " 1   is_duplicate  int64\n",
      "dtypes: int64(2)\n",
      "memory usage: 53.7 MB\n"
     ]
    }
   ],
   "source": [
    "submission.info()"
   ]
  }
 ],
 "metadata": {
  "kernelspec": {
   "display_name": "Python 3",
   "language": "python",
   "name": "python3"
  },
  "language_info": {
   "codemirror_mode": {
    "name": "ipython",
    "version": 3
   },
   "file_extension": ".py",
   "mimetype": "text/x-python",
   "name": "python",
   "nbconvert_exporter": "python",
   "pygments_lexer": "ipython3",
   "version": "3.10.12"
  },
  "papermill": {
   "default_parameters": {},
   "duration": 1936.7081,
   "end_time": "2023-10-12T10:05:17.657222",
   "environment_variables": {},
   "exception": null,
   "input_path": "__notebook__.ipynb",
   "output_path": "__notebook__.ipynb",
   "parameters": {},
   "start_time": "2023-10-12T09:33:00.949122",
   "version": "2.4.0"
  }
 },
 "nbformat": 4,
 "nbformat_minor": 5
}
